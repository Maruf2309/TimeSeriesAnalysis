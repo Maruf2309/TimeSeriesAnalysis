{
 "cells": [
  {
   "cell_type": "markdown",
   "id": "a06e63f0",
   "metadata": {},
   "source": [
    "# Model Experiments Phase - TSA 1001"
   ]
  },
  {
   "cell_type": "markdown",
   "id": "5ad3d5c1",
   "metadata": {},
   "source": [
    "#### About Notebook - Experiments_M4"
   ]
  },
  {
   "cell_type": "markdown",
   "id": "9d37a78b",
   "metadata": {},
   "source": [
    "1. experiment_m5: Standardized & tracked to Mlflow"
   ]
  },
  {
   "cell_type": "markdown",
   "id": "431f7402",
   "metadata": {},
   "source": [
    "#### Import Necessary Libraries"
   ]
  },
  {
   "cell_type": "code",
   "execution_count": 48,
   "id": "e4ba5af0",
   "metadata": {},
   "outputs": [],
   "source": [
    "# Basic Libraies\n",
    "import numpy as np\n",
    "import pandas as pd\n",
    "import seaborn as sns\n",
    "\n",
    "import matplotlib.pyplot as plt\n",
    "import warnings as wr\n",
    "wr.filterwarnings('ignore')"
   ]
  },
  {
   "cell_type": "code",
   "execution_count": 49,
   "id": "2417dc39",
   "metadata": {},
   "outputs": [],
   "source": [
    "# Earlier was v4, lets try with v6 (v6 reduce column number, best selected with scaled)\n",
    "data = pd.read_parquet(\"D:/Study/PROJECT-REALTIME/PT-1001/model_output_data/output/sales_bya_v6.parquet\") # I guest data not be requried, need confirmation\n",
    "df = data.copy()"
   ]
  },
  {
   "cell_type": "code",
   "execution_count": 50,
   "id": "9857c9bf",
   "metadata": {},
   "outputs": [
    {
     "data": {
      "text/html": [
       "<div>\n",
       "<style scoped>\n",
       "    .dataframe tbody tr th:only-of-type {\n",
       "        vertical-align: middle;\n",
       "    }\n",
       "\n",
       "    .dataframe tbody tr th {\n",
       "        vertical-align: top;\n",
       "    }\n",
       "\n",
       "    .dataframe thead th {\n",
       "        text-align: right;\n",
       "    }\n",
       "</style>\n",
       "<table border=\"1\" class=\"dataframe\">\n",
       "  <thead>\n",
       "    <tr style=\"text-align: right;\">\n",
       "      <th></th>\n",
       "      <th>date_month_start</th>\n",
       "      <th>net_price_lag_7</th>\n",
       "      <th>net_price_lag_28</th>\n",
       "      <th>net_price_lag_1</th>\n",
       "      <th>net_price</th>\n",
       "      <th>date</th>\n",
       "    </tr>\n",
       "  </thead>\n",
       "  <tbody>\n",
       "    <tr>\n",
       "      <th>0</th>\n",
       "      <td>0</td>\n",
       "      <td>-1.076879</td>\n",
       "      <td>5.909094</td>\n",
       "      <td>0.057816</td>\n",
       "      <td>5042942.0</td>\n",
       "      <td>2019-08-08</td>\n",
       "    </tr>\n",
       "    <tr>\n",
       "      <th>1</th>\n",
       "      <td>0</td>\n",
       "      <td>1.824821</td>\n",
       "      <td>2.914794</td>\n",
       "      <td>0.216489</td>\n",
       "      <td>2932270.5</td>\n",
       "      <td>2019-08-10</td>\n",
       "    </tr>\n",
       "    <tr>\n",
       "      <th>2</th>\n",
       "      <td>0</td>\n",
       "      <td>0.207312</td>\n",
       "      <td>0.364461</td>\n",
       "      <td>-0.349414</td>\n",
       "      <td>1809937.5</td>\n",
       "      <td>2019-08-12</td>\n",
       "    </tr>\n",
       "    <tr>\n",
       "      <th>3</th>\n",
       "      <td>0</td>\n",
       "      <td>-1.122481</td>\n",
       "      <td>1.342665</td>\n",
       "      <td>-0.650329</td>\n",
       "      <td>3067519.0</td>\n",
       "      <td>2019-08-13</td>\n",
       "    </tr>\n",
       "    <tr>\n",
       "      <th>4</th>\n",
       "      <td>0</td>\n",
       "      <td>-0.434004</td>\n",
       "      <td>1.281428</td>\n",
       "      <td>-0.313152</td>\n",
       "      <td>5123492.0</td>\n",
       "      <td>2019-08-14</td>\n",
       "    </tr>\n",
       "  </tbody>\n",
       "</table>\n",
       "</div>"
      ],
      "text/plain": [
       "   date_month_start  net_price_lag_7  net_price_lag_28  net_price_lag_1  \\\n",
       "0                 0        -1.076879          5.909094         0.057816   \n",
       "1                 0         1.824821          2.914794         0.216489   \n",
       "2                 0         0.207312          0.364461        -0.349414   \n",
       "3                 0        -1.122481          1.342665        -0.650329   \n",
       "4                 0        -0.434004          1.281428        -0.313152   \n",
       "\n",
       "   net_price       date  \n",
       "0  5042942.0 2019-08-08  \n",
       "1  2932270.5 2019-08-10  \n",
       "2  1809937.5 2019-08-12  \n",
       "3  3067519.0 2019-08-13  \n",
       "4  5123492.0 2019-08-14  "
      ]
     },
     "execution_count": 50,
     "metadata": {},
     "output_type": "execute_result"
    }
   ],
   "source": [
    "df.head()"
   ]
  },
  {
   "cell_type": "code",
   "execution_count": 51,
   "id": "0c908460",
   "metadata": {},
   "outputs": [
    {
     "data": {
      "text/html": [
       "<div>\n",
       "<style scoped>\n",
       "    .dataframe tbody tr th:only-of-type {\n",
       "        vertical-align: middle;\n",
       "    }\n",
       "\n",
       "    .dataframe tbody tr th {\n",
       "        vertical-align: top;\n",
       "    }\n",
       "\n",
       "    .dataframe thead th {\n",
       "        text-align: right;\n",
       "    }\n",
       "</style>\n",
       "<table border=\"1\" class=\"dataframe\">\n",
       "  <thead>\n",
       "    <tr style=\"text-align: right;\">\n",
       "      <th></th>\n",
       "      <th>date_month_start</th>\n",
       "      <th>net_price_lag_7</th>\n",
       "      <th>net_price_lag_28</th>\n",
       "      <th>net_price_lag_1</th>\n",
       "      <th>net_price</th>\n",
       "      <th>date</th>\n",
       "    </tr>\n",
       "  </thead>\n",
       "  <tbody>\n",
       "    <tr>\n",
       "      <th>1116</th>\n",
       "      <td>0</td>\n",
       "      <td>1.011448</td>\n",
       "      <td>0.846822</td>\n",
       "      <td>1.806918</td>\n",
       "      <td>4.866168e+04</td>\n",
       "      <td>2023-06-25</td>\n",
       "    </tr>\n",
       "    <tr>\n",
       "      <th>1117</th>\n",
       "      <td>0</td>\n",
       "      <td>-0.110007</td>\n",
       "      <td>0.117538</td>\n",
       "      <td>-1.122553</td>\n",
       "      <td>2.878786e+06</td>\n",
       "      <td>2023-06-26</td>\n",
       "    </tr>\n",
       "    <tr>\n",
       "      <th>1118</th>\n",
       "      <td>0</td>\n",
       "      <td>0.273030</td>\n",
       "      <td>2.004125</td>\n",
       "      <td>-0.363754</td>\n",
       "      <td>4.076503e+06</td>\n",
       "      <td>2023-06-27</td>\n",
       "    </tr>\n",
       "    <tr>\n",
       "      <th>1119</th>\n",
       "      <td>0</td>\n",
       "      <td>0.785505</td>\n",
       "      <td>-1.128543</td>\n",
       "      <td>-0.042628</td>\n",
       "      <td>5.416796e+06</td>\n",
       "      <td>2023-06-28</td>\n",
       "    </tr>\n",
       "    <tr>\n",
       "      <th>1120</th>\n",
       "      <td>0</td>\n",
       "      <td>0.914636</td>\n",
       "      <td>-0.203244</td>\n",
       "      <td>0.316725</td>\n",
       "      <td>2.074890e+07</td>\n",
       "      <td>2023-06-29</td>\n",
       "    </tr>\n",
       "  </tbody>\n",
       "</table>\n",
       "</div>"
      ],
      "text/plain": [
       "      date_month_start  net_price_lag_7  net_price_lag_28  net_price_lag_1  \\\n",
       "1116                 0         1.011448          0.846822         1.806918   \n",
       "1117                 0        -0.110007          0.117538        -1.122553   \n",
       "1118                 0         0.273030          2.004125        -0.363754   \n",
       "1119                 0         0.785505         -1.128543        -0.042628   \n",
       "1120                 0         0.914636         -0.203244         0.316725   \n",
       "\n",
       "         net_price       date  \n",
       "1116  4.866168e+04 2023-06-25  \n",
       "1117  2.878786e+06 2023-06-26  \n",
       "1118  4.076503e+06 2023-06-27  \n",
       "1119  5.416796e+06 2023-06-28  \n",
       "1120  2.074890e+07 2023-06-29  "
      ]
     },
     "execution_count": 51,
     "metadata": {},
     "output_type": "execute_result"
    }
   ],
   "source": [
    "df.tail()"
   ]
  },
  {
   "cell_type": "code",
   "execution_count": 52,
   "id": "e7f215b0",
   "metadata": {},
   "outputs": [
    {
     "data": {
      "text/plain": [
       "(1121, 6)"
      ]
     },
     "execution_count": 52,
     "metadata": {},
     "output_type": "execute_result"
    }
   ],
   "source": [
    "df.shape"
   ]
  },
  {
   "cell_type": "markdown",
   "id": "a008f9bd",
   "metadata": {},
   "source": [
    "# Seperation X, y (features, Target) "
   ]
  },
  {
   "cell_type": "markdown",
   "id": "35024881",
   "metadata": {},
   "source": [
    "1. first 3 year data for Train Set\n",
    "2. last 1 year data for Test set"
   ]
  },
  {
   "cell_type": "markdown",
   "id": "b4aab106",
   "metadata": {},
   "source": [
    "####  a. Train Set ( 3 Fiscal years data) "
   ]
  },
  {
   "cell_type": "code",
   "execution_count": 53,
   "id": "f9b05849",
   "metadata": {},
   "outputs": [],
   "source": [
    "# Define the start and end dates of the range\n",
    "start_date = '2019-07-01'\n",
    "end_date = '2022-06-30'"
   ]
  },
  {
   "cell_type": "code",
   "execution_count": 54,
   "id": "ba4b75f1",
   "metadata": {},
   "outputs": [],
   "source": [
    "# Create a mask to filter the rows that fall within the range\n",
    "mask = (df['date'] >= start_date) & (df['date'] <=end_date)"
   ]
  },
  {
   "cell_type": "code",
   "execution_count": 55,
   "id": "81289833",
   "metadata": {},
   "outputs": [
    {
     "data": {
      "text/html": [
       "<div>\n",
       "<style scoped>\n",
       "    .dataframe tbody tr th:only-of-type {\n",
       "        vertical-align: middle;\n",
       "    }\n",
       "\n",
       "    .dataframe tbody tr th {\n",
       "        vertical-align: top;\n",
       "    }\n",
       "\n",
       "    .dataframe thead th {\n",
       "        text-align: right;\n",
       "    }\n",
       "</style>\n",
       "<table border=\"1\" class=\"dataframe\">\n",
       "  <thead>\n",
       "    <tr style=\"text-align: right;\">\n",
       "      <th></th>\n",
       "      <th>date_month_start</th>\n",
       "      <th>net_price_lag_7</th>\n",
       "      <th>net_price_lag_28</th>\n",
       "      <th>net_price_lag_1</th>\n",
       "      <th>net_price</th>\n",
       "      <th>date</th>\n",
       "    </tr>\n",
       "  </thead>\n",
       "  <tbody>\n",
       "    <tr>\n",
       "      <th>0</th>\n",
       "      <td>0</td>\n",
       "      <td>-1.076879</td>\n",
       "      <td>5.909094</td>\n",
       "      <td>0.057816</td>\n",
       "      <td>5042942.0</td>\n",
       "      <td>2019-08-08</td>\n",
       "    </tr>\n",
       "    <tr>\n",
       "      <th>1</th>\n",
       "      <td>0</td>\n",
       "      <td>1.824821</td>\n",
       "      <td>2.914794</td>\n",
       "      <td>0.216489</td>\n",
       "      <td>2932270.5</td>\n",
       "      <td>2019-08-10</td>\n",
       "    </tr>\n",
       "    <tr>\n",
       "      <th>2</th>\n",
       "      <td>0</td>\n",
       "      <td>0.207312</td>\n",
       "      <td>0.364461</td>\n",
       "      <td>-0.349414</td>\n",
       "      <td>1809937.5</td>\n",
       "      <td>2019-08-12</td>\n",
       "    </tr>\n",
       "    <tr>\n",
       "      <th>3</th>\n",
       "      <td>0</td>\n",
       "      <td>-1.122481</td>\n",
       "      <td>1.342665</td>\n",
       "      <td>-0.650329</td>\n",
       "      <td>3067519.0</td>\n",
       "      <td>2019-08-13</td>\n",
       "    </tr>\n",
       "    <tr>\n",
       "      <th>4</th>\n",
       "      <td>0</td>\n",
       "      <td>-0.434004</td>\n",
       "      <td>1.281428</td>\n",
       "      <td>-0.313152</td>\n",
       "      <td>5123492.0</td>\n",
       "      <td>2019-08-14</td>\n",
       "    </tr>\n",
       "  </tbody>\n",
       "</table>\n",
       "</div>"
      ],
      "text/plain": [
       "   date_month_start  net_price_lag_7  net_price_lag_28  net_price_lag_1  \\\n",
       "0                 0        -1.076879          5.909094         0.057816   \n",
       "1                 0         1.824821          2.914794         0.216489   \n",
       "2                 0         0.207312          0.364461        -0.349414   \n",
       "3                 0        -1.122481          1.342665        -0.650329   \n",
       "4                 0        -0.434004          1.281428        -0.313152   \n",
       "\n",
       "   net_price       date  \n",
       "0  5042942.0 2019-08-08  \n",
       "1  2932270.5 2019-08-10  \n",
       "2  1809937.5 2019-08-12  \n",
       "3  3067519.0 2019-08-13  \n",
       "4  5123492.0 2019-08-14  "
      ]
     },
     "execution_count": 55,
     "metadata": {},
     "output_type": "execute_result"
    }
   ],
   "source": [
    "# Apply the mask to get the filtered dataframe\n",
    "train = df.loc[mask]\n",
    "train.head()"
   ]
  },
  {
   "cell_type": "code",
   "execution_count": 56,
   "id": "d15c341c",
   "metadata": {},
   "outputs": [
    {
     "data": {
      "text/plain": [
       "(835, 6)"
      ]
     },
     "execution_count": 56,
     "metadata": {},
     "output_type": "execute_result"
    }
   ],
   "source": [
    "train.shape"
   ]
  },
  {
   "cell_type": "markdown",
   "id": "b0dec024",
   "metadata": {},
   "source": [
    "####  b. Test Set ( 3 Fiscal years data)"
   ]
  },
  {
   "cell_type": "code",
   "execution_count": 57,
   "id": "bf53db53",
   "metadata": {},
   "outputs": [],
   "source": [
    "# Define the start and end dates of the range\n",
    "test_start = '2022-07-01'\n",
    "test_end = '2023-06-30'"
   ]
  },
  {
   "cell_type": "code",
   "execution_count": 58,
   "id": "7dcf95fb",
   "metadata": {},
   "outputs": [],
   "source": [
    "# Create a mask to filter the rows that fall within the range\n",
    "mask2 = (df['date'] >= test_start) & (df['date'] <=test_end)"
   ]
  },
  {
   "cell_type": "code",
   "execution_count": 59,
   "id": "899e08f6",
   "metadata": {},
   "outputs": [
    {
     "data": {
      "text/html": [
       "<div>\n",
       "<style scoped>\n",
       "    .dataframe tbody tr th:only-of-type {\n",
       "        vertical-align: middle;\n",
       "    }\n",
       "\n",
       "    .dataframe tbody tr th {\n",
       "        vertical-align: top;\n",
       "    }\n",
       "\n",
       "    .dataframe thead th {\n",
       "        text-align: right;\n",
       "    }\n",
       "</style>\n",
       "<table border=\"1\" class=\"dataframe\">\n",
       "  <thead>\n",
       "    <tr style=\"text-align: right;\">\n",
       "      <th></th>\n",
       "      <th>date_month_start</th>\n",
       "      <th>net_price_lag_7</th>\n",
       "      <th>net_price_lag_28</th>\n",
       "      <th>net_price_lag_1</th>\n",
       "      <th>net_price</th>\n",
       "      <th>date</th>\n",
       "    </tr>\n",
       "  </thead>\n",
       "  <tbody>\n",
       "    <tr>\n",
       "      <th>835</th>\n",
       "      <td>0</td>\n",
       "      <td>0.393723</td>\n",
       "      <td>-0.320125</td>\n",
       "      <td>0.223613</td>\n",
       "      <td>1.661066e+07</td>\n",
       "      <td>2022-07-02</td>\n",
       "    </tr>\n",
       "    <tr>\n",
       "      <th>836</th>\n",
       "      <td>0</td>\n",
       "      <td>-1.119361</td>\n",
       "      <td>-0.030373</td>\n",
       "      <td>3.317969</td>\n",
       "      <td>5.036286e+06</td>\n",
       "      <td>2022-07-03</td>\n",
       "    </tr>\n",
       "    <tr>\n",
       "      <th>837</th>\n",
       "      <td>0</td>\n",
       "      <td>-0.406804</td>\n",
       "      <td>2.646675</td>\n",
       "      <td>0.214704</td>\n",
       "      <td>5.494030e+06</td>\n",
       "      <td>2022-07-04</td>\n",
       "    </tr>\n",
       "    <tr>\n",
       "      <th>838</th>\n",
       "      <td>0</td>\n",
       "      <td>-0.069035</td>\n",
       "      <td>0.034942</td>\n",
       "      <td>0.337432</td>\n",
       "      <td>1.113029e+05</td>\n",
       "      <td>2022-07-05</td>\n",
       "    </tr>\n",
       "    <tr>\n",
       "      <th>839</th>\n",
       "      <td>0</td>\n",
       "      <td>0.229674</td>\n",
       "      <td>0.197900</td>\n",
       "      <td>-1.105758</td>\n",
       "      <td>3.572892e+06</td>\n",
       "      <td>2022-07-06</td>\n",
       "    </tr>\n",
       "  </tbody>\n",
       "</table>\n",
       "</div>"
      ],
      "text/plain": [
       "     date_month_start  net_price_lag_7  net_price_lag_28  net_price_lag_1  \\\n",
       "835                 0         0.393723         -0.320125         0.223613   \n",
       "836                 0        -1.119361         -0.030373         3.317969   \n",
       "837                 0        -0.406804          2.646675         0.214704   \n",
       "838                 0        -0.069035          0.034942         0.337432   \n",
       "839                 0         0.229674          0.197900        -1.105758   \n",
       "\n",
       "        net_price       date  \n",
       "835  1.661066e+07 2022-07-02  \n",
       "836  5.036286e+06 2022-07-03  \n",
       "837  5.494030e+06 2022-07-04  \n",
       "838  1.113029e+05 2022-07-05  \n",
       "839  3.572892e+06 2022-07-06  "
      ]
     },
     "execution_count": 59,
     "metadata": {},
     "output_type": "execute_result"
    }
   ],
   "source": [
    "# Apply the mask to get the filtered dataframe\n",
    "test = df.loc[mask2]\n",
    "test.head()"
   ]
  },
  {
   "cell_type": "code",
   "execution_count": 60,
   "id": "89344f37",
   "metadata": {},
   "outputs": [
    {
     "data": {
      "text/plain": [
       "(286, 6)"
      ]
     },
     "execution_count": 60,
     "metadata": {},
     "output_type": "execute_result"
    }
   ],
   "source": [
    "test.shape"
   ]
  },
  {
   "cell_type": "markdown",
   "id": "d16d4f9e",
   "metadata": {},
   "source": [
    "#### Training & Testing Set"
   ]
  },
  {
   "cell_type": "code",
   "execution_count": 61,
   "id": "76e2ec48",
   "metadata": {},
   "outputs": [
    {
     "name": "stdout",
     "output_type": "stream",
     "text": [
      "(835, 4)\n",
      "(835,)\n"
     ]
    }
   ],
   "source": [
    "# Training Set\n",
    "X_train = train.drop(columns=['date','net_price'])\n",
    "y_train = train['net_price']\n",
    "\n",
    "print(X_train.shape)\n",
    "print(y_train.shape)"
   ]
  },
  {
   "cell_type": "code",
   "execution_count": 62,
   "id": "4375452a",
   "metadata": {},
   "outputs": [
    {
     "name": "stdout",
     "output_type": "stream",
     "text": [
      "(286, 4)\n",
      "(286,)\n"
     ]
    }
   ],
   "source": [
    "# Test Set\n",
    "X_test = test.drop(columns=['date','net_price'])\n",
    "y_test = test['net_price']\n",
    "\n",
    "print(X_test.shape)\n",
    "print(y_test.shape)"
   ]
  },
  {
   "cell_type": "code",
   "execution_count": 63,
   "id": "8fce22d0",
   "metadata": {},
   "outputs": [
    {
     "name": "stdout",
     "output_type": "stream",
     "text": [
      "(835, 4)\n",
      "(835,)\n",
      "(286, 4)\n",
      "(286,)\n"
     ]
    }
   ],
   "source": [
    "# Check the whether the lenge of data is same for both train & test set\n",
    "print(X_train.shape)\n",
    "print(y_train.shape)\n",
    "print(X_test.shape)\n",
    "print(y_test.shape)"
   ]
  },
  {
   "cell_type": "markdown",
   "id": "ed48f4ee",
   "metadata": {},
   "source": [
    "## 2.0 Define Models"
   ]
  },
  {
   "cell_type": "code",
   "execution_count": 64,
   "id": "a0683b9b",
   "metadata": {},
   "outputs": [],
   "source": [
    "# Define Models\n",
    "from sklearn.linear_model import Ridge\n",
    "from sklearn.neighbors import KNeighborsRegressor\n",
    "from sklearn.tree import DecisionTreeRegressor\n",
    "from sklearn.ensemble import RandomForestRegressor\n",
    "import xgboost as xgb"
   ]
  },
  {
   "cell_type": "markdown",
   "id": "0533048e",
   "metadata": {},
   "source": [
    "### 3.0 Evaluation Metrics"
   ]
  },
  {
   "cell_type": "code",
   "execution_count": 65,
   "id": "d269edba",
   "metadata": {},
   "outputs": [],
   "source": [
    "# Evaluation metrics\n",
    "from sklearn.metrics import mean_squared_error, mean_absolute_error, r2_score, mean_absolute_percentage_error"
   ]
  },
  {
   "cell_type": "markdown",
   "id": "b187a10c",
   "metadata": {},
   "source": [
    "<center> <h1> 4.0 Experiments - Mlflow </h1></center>"
   ]
  },
  {
   "cell_type": "code",
   "execution_count": 66,
   "id": "50c652ed",
   "metadata": {},
   "outputs": [],
   "source": [
    "#!pip install mlflow "
   ]
  },
  {
   "cell_type": "code",
   "execution_count": 67,
   "id": "9f175f1d",
   "metadata": {},
   "outputs": [],
   "source": [
    "import mlflow"
   ]
  },
  {
   "cell_type": "code",
   "execution_count": 69,
   "id": "f43b5a1d",
   "metadata": {},
   "outputs": [],
   "source": [
    "mlflow.set_tracking_uri(\"http://localhost:5000\")"
   ]
  },
  {
   "cell_type": "code",
   "execution_count": 70,
   "id": "4f7eb999",
   "metadata": {},
   "outputs": [
    {
     "data": {
      "text/plain": [
       "'498311194986016427'"
      ]
     },
     "execution_count": 70,
     "metadata": {},
     "output_type": "execute_result"
    }
   ],
   "source": [
    "mlflow.create_experiment('Forecating_TSA')"
   ]
  },
  {
   "cell_type": "markdown",
   "id": "c4f23aef",
   "metadata": {},
   "source": [
    "##  Modeling"
   ]
  },
  {
   "cell_type": "code",
   "execution_count": 72,
   "id": "9040ae09",
   "metadata": {},
   "outputs": [],
   "source": [
    "# Start MLflow run session\n",
    "mlflow.set_experiment('Forecating_TSA')\n",
    "mlflow.set_tracking_uri(\"http://localhost:5000\")\n",
    "with mlflow.start_run():\n",
    "    \n",
    "    ## Model architecture- Model_1: Ridge\n",
    "    model_1= Ridge(\n",
    "    alpha=1.0, fit_intercept=True, copy_X=True, max_iter=None,\n",
    "    tol=0.0001, solver='auto', positive=False, random_state=42,\n",
    "    )\n",
    "    \n",
    "    ## Fit the model\n",
    "    model_1.fit(X_train, y_train)\n",
    "    \n",
    "    ## Log param\n",
    "    mlflow.log_params(dict(alpha=1.0, fit_intercept=True, copy_X=True, max_iter=None,\n",
    "    tol=0.0001, solver='auto', positive=False, random_state=42))\n",
    "    \n",
    "    ## log metrics\n",
    "    mlflow.log_metrics(\n",
    "        {\n",
    "            'r2': r2_score(model_1.predict(X_test), y_test),\n",
    "            'mape': mean_absolute_percentage_error(model_1.predict(X_test), y_test),\n",
    "            'mse': mean_squared_error(model_1.predict(X_test), y_test),\n",
    "            'mae': mean_absolute_error(model_1.predict(X_test), y_test)\n",
    "            \n",
    "        }\n",
    "    )\n",
    "    \n",
    "    ## log model\n",
    "mlflow.set_experiment('Forecating_TSA')\n",
    "with mlflow.start_run():\n",
    "     \n",
    "    # Model_2: KNeighborsRegressor\n",
    "    model_2 = KNeighborsRegressor(n_neighbors=7, weights='distance', metric='euclidean')\n",
    "    \n",
    "    ## fit/ train the model\n",
    "    model_2.fit(X_train, y_train)\n",
    "    \n",
    "    ## log params\n",
    "    mlflow.log_params(dict(n_neighbors=7, weights='distance', metric='euclidean'))\n",
    "    \n",
    "    ## log metrics\n",
    "    mlflow.log_metrics(\n",
    "        {\n",
    "            'r2': r2_score(model_2.predict(X_test), y_test), # it will cal r2_score on test data, X:prediction, y: actual\n",
    "            'mape':mean_absolute_percentage_error(model_2.predict(X_test), y_test),\n",
    "            'mse':mean_squared_error(model_2.predict(X_test), y_test),\n",
    "            'mae':mean_absolute_error(model_2.predict(X_test), y_test)\n",
    "        }\n",
    "    \n",
    "    )\n",
    "    ## log the model\n",
    "mlflow.set_experiment('Forecating_TSA')    \n",
    "with mlflow.start_run():  \n",
    "    # Model-3: Decision Tree\n",
    "    model_3 = DecisionTreeRegressor(\n",
    "    criterion='squared_error', splitter='best', \n",
    "    max_depth=3, min_samples_split=2, \n",
    "    min_samples_leaf=2, min_weight_fraction_leaf=0.0, \n",
    "    max_features=None, random_state=42, max_leaf_nodes=None, \n",
    "    min_impurity_decrease=0.0, ccp_alpha=0.0\n",
    "    )\n",
    "    \n",
    "    ## fit/train the model\n",
    "    model_3.fit(X_train, y_train)\n",
    "    \n",
    "    ## log params\n",
    "    mlflow.log_params(\n",
    "        dict(criterion='squared_error', \n",
    "             splitter='best', max_depth=3,\n",
    "             min_samples_split=2,\n",
    "             min_samples_leaf=2, \n",
    "             min_weight_fraction_leaf=0.0,\n",
    "             max_features=None, random_state=42,\n",
    "             max_leaf_nodes=None,\n",
    "             min_impurity_decrease=0.0, ccp_alpha=0.0)\n",
    "    )\n",
    "    \n",
    "    ## log metrics\n",
    "    mlflow.log_metrics(\n",
    "        {\n",
    "            'r2':r2_score(model_3.predict(X_test), y_test),\n",
    "            'mape':mean_absolute_percentage_error(model_3.predict(X_test), y_test),\n",
    "            'mse':mean_squared_error(model_3.predict(X_test), y_test),\n",
    "            'mae':mean_absolute_error(model_3.predict(X_test), y_test)\n",
    "        }\n",
    "    \n",
    "    )\n",
    "    \n",
    "    ## log model\n",
    "mlflow.set_experiment('Forecating_TSA')    \n",
    "with mlflow.start_run(): \n",
    "    \n",
    "    # Model-4: Random Forest\n",
    "    model_4 = RandomForestRegressor(\n",
    "        n_estimators=30,\n",
    "        criterion='squared_error',\n",
    "        max_depth=5, # max dept= 'none' limit it by 5 for optimization\n",
    "        min_samples_split=2,\n",
    "        min_samples_leaf=1,\n",
    "        min_weight_fraction_leaf=0.0,\n",
    "        max_features=1.0,\n",
    "        max_leaf_nodes=None,\n",
    "        min_impurity_decrease=0.0,\n",
    "        bootstrap=True,\n",
    "        oob_score=False,\n",
    "        n_jobs=None,\n",
    "        random_state=33,\n",
    "        verbose=0,\n",
    "        warm_start=False,\n",
    "        ccp_alpha=0.0,\n",
    "        \n",
    "    )\n",
    "    \n",
    "    ## Fit/ Train the model\n",
    "    model_4.fit(X_train, y_train)\n",
    "    \n",
    "    ## log Params\n",
    "    mlflow.log_params(\n",
    "        dict(n_estimators=30,\n",
    "        criterion='squared_error',\n",
    "        max_depth=5, \n",
    "        min_samples_split=2,\n",
    "        min_samples_leaf=1,\n",
    "        min_weight_fraction_leaf=0.0,\n",
    "        max_features=1.0,\n",
    "        max_leaf_nodes=None,\n",
    "        min_impurity_decrease=0.0,\n",
    "        bootstrap=True,\n",
    "        oob_score=False,\n",
    "        n_jobs=None,\n",
    "        random_state=33,\n",
    "        verbose=0,\n",
    "        warm_start=False,\n",
    "        ccp_alpha=0.0)\n",
    "        )\n",
    "                           \n",
    "    \n",
    "    ## log Metrics\n",
    "    mlflow.log_metrics(\n",
    "        {\n",
    "            'r2':r2_score(model_4.predict(X_test), y_test),\n",
    "            'mape':mean_absolute_percentage_error(model_4.predict(X_test), y_test),\n",
    "            'mse':mean_squared_error(model_4.predict(X_test), y_test),\n",
    "            'mae':mean_absolute_error(model_4.predict(X_test), y_test)\n",
    "        }\n",
    "    )\n",
    "    \n",
    "    ## log Model\n",
    "    \n",
    "mlflow.set_experiment('Forecating_TSA')\n",
    "with mlflow.start_run():     \n",
    "    # Model-5: XGBoost\n",
    "    model_5 = xgb.XGBRegressor(\n",
    "        objective='reg:squarederror',\n",
    "        max_depth=10,\n",
    "        n_estimators=10,\n",
    "        seed = 123\n",
    "    )\n",
    "    \n",
    "    ## fit the model\n",
    "    model_5.fit(X_train, y_train)\n",
    "    \n",
    "    ## log Params\n",
    "    mlflow.log_params(\n",
    "        dict(objective='reg:squarederror',\n",
    "        max_depth=10,\n",
    "        n_estimators=10,\n",
    "        seed = 123)\n",
    "    )\n",
    "    \n",
    "    ## log Metrics\n",
    "    mlflow.log_metrics(\n",
    "        {\n",
    "            'r2':r2_score(model_5.predict(X_test), y_test),\n",
    "            'mape':mean_absolute_percentage_error(model_5.predict(X_test), y_test),\n",
    "            'mse':mean_squared_error(model_5.predict(X_test), y_test),\n",
    "            'mae':mean_absolute_error(model_5.predict(X_test), y_test)\n",
    "        }\n",
    "    )\n",
    "    \n",
    "    ## log model    \n",
    "  "
   ]
  },
  {
   "cell_type": "code",
   "execution_count": null,
   "id": "bac00306",
   "metadata": {},
   "outputs": [],
   "source": []
  },
  {
   "cell_type": "code",
   "execution_count": null,
   "id": "8acda733",
   "metadata": {},
   "outputs": [],
   "source": []
  },
  {
   "cell_type": "code",
   "execution_count": null,
   "id": "c86387b0",
   "metadata": {},
   "outputs": [],
   "source": []
  },
  {
   "cell_type": "code",
   "execution_count": null,
   "id": "372a5d29",
   "metadata": {},
   "outputs": [],
   "source": []
  },
  {
   "cell_type": "code",
   "execution_count": null,
   "id": "d075abca",
   "metadata": {},
   "outputs": [],
   "source": []
  },
  {
   "cell_type": "code",
   "execution_count": null,
   "id": "07fa3176",
   "metadata": {},
   "outputs": [],
   "source": []
  },
  {
   "cell_type": "code",
   "execution_count": null,
   "id": "c6084bd9",
   "metadata": {},
   "outputs": [],
   "source": []
  },
  {
   "cell_type": "code",
   "execution_count": null,
   "id": "129c4191",
   "metadata": {},
   "outputs": [],
   "source": []
  },
  {
   "cell_type": "code",
   "execution_count": null,
   "id": "f7099119",
   "metadata": {},
   "outputs": [],
   "source": []
  },
  {
   "cell_type": "code",
   "execution_count": null,
   "id": "029cf131",
   "metadata": {},
   "outputs": [],
   "source": []
  },
  {
   "cell_type": "code",
   "execution_count": null,
   "id": "a62196c9",
   "metadata": {},
   "outputs": [],
   "source": []
  },
  {
   "cell_type": "code",
   "execution_count": null,
   "id": "ff13df43",
   "metadata": {},
   "outputs": [],
   "source": []
  },
  {
   "cell_type": "code",
   "execution_count": null,
   "id": "8c82d932",
   "metadata": {},
   "outputs": [],
   "source": []
  },
  {
   "cell_type": "code",
   "execution_count": null,
   "id": "213225af",
   "metadata": {},
   "outputs": [],
   "source": []
  },
  {
   "cell_type": "code",
   "execution_count": null,
   "id": "4fc61f9f",
   "metadata": {},
   "outputs": [],
   "source": []
  },
  {
   "cell_type": "markdown",
   "id": "dd0cee3e",
   "metadata": {},
   "source": [
    "#### Ref"
   ]
  },
  {
   "cell_type": "markdown",
   "id": "1a181036",
   "metadata": {},
   "source": [
    "1. https://tslearn.readthedocs.io/en/latest/gen_modules/neighbors/tslearn.neighbors.KNeighborsTimeSeriesRegressor.h"
   ]
  },
  {
   "cell_type": "code",
   "execution_count": null,
   "id": "22890897",
   "metadata": {},
   "outputs": [],
   "source": []
  }
 ],
 "metadata": {
  "kernelspec": {
   "display_name": "Python 3 (ipykernel)",
   "language": "python",
   "name": "python3"
  },
  "language_info": {
   "codemirror_mode": {
    "name": "ipython",
    "version": 3
   },
   "file_extension": ".py",
   "mimetype": "text/x-python",
   "name": "python",
   "nbconvert_exporter": "python",
   "pygments_lexer": "ipython3",
   "version": "3.10.7"
  }
 },
 "nbformat": 4,
 "nbformat_minor": 5
}
