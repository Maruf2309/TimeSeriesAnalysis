{
 "cells": [
  {
   "cell_type": "markdown",
   "id": "250a4b02",
   "metadata": {},
   "source": [
    "# Model Experiments Phase - TSA 1001"
   ]
  },
  {
   "cell_type": "markdown",
   "id": "58619019",
   "metadata": {},
   "source": [
    "#### About Notebook - Experiments_M4"
   ]
  },
  {
   "cell_type": "markdown",
   "id": "ff9a91fd",
   "metadata": {},
   "source": [
    "1. experiment_m3: with generalized (non scaled data) with mlflow >> run on folds >> output passed to 'Mlflow'\n",
    "2. experiment_m4: with standardized data >> run on standardized data, not folds >> without mlflow(traditional) >> output not saved any where!"
   ]
  },
  {
   "cell_type": "markdown",
   "id": "2d07dfc0",
   "metadata": {},
   "source": [
    "#### Import Necessary Libraries"
   ]
  },
  {
   "cell_type": "code",
   "execution_count": 1,
   "id": "243b0afc",
   "metadata": {},
   "outputs": [],
   "source": [
    "# Basic Libraies\n",
    "import numpy as np\n",
    "import pandas as pd\n",
    "import seaborn as sns\n",
    "\n",
    "import matplotlib.pyplot as plt\n",
    "import warnings as wr\n",
    "wr.filterwarnings('ignore')"
   ]
  },
  {
   "cell_type": "markdown",
   "id": "fed9a533",
   "metadata": {},
   "source": [
    "#### About Data"
   ]
  },
  {
   "cell_type": "markdown",
   "id": "8897e099",
   "metadata": {},
   "source": [
    "1. volume- v4 (best selected features with Ridge & Decesion Tree)- As per session\n",
    "2. volumn-v5 (best selected features with Ridge & Ridge)"
   ]
  },
  {
   "cell_type": "code",
   "execution_count": 2,
   "id": "f96cf7ef",
   "metadata": {},
   "outputs": [],
   "source": [
    "# Earlier was v4, lets try with v6 (v6 reduce column number, best selected with scaled)\n",
    "data = pd.read_parquet(\"D:/Study/PROJECT-REALTIME/PT-1001/model_output_data/output/sales_bya_v6.parquet\") # I guest data not be requried, need confirmation\n",
    "df = data.copy()"
   ]
  },
  {
   "cell_type": "code",
   "execution_count": 3,
   "id": "25b708c8",
   "metadata": {},
   "outputs": [
    {
     "data": {
      "text/html": [
       "<div>\n",
       "<style scoped>\n",
       "    .dataframe tbody tr th:only-of-type {\n",
       "        vertical-align: middle;\n",
       "    }\n",
       "\n",
       "    .dataframe tbody tr th {\n",
       "        vertical-align: top;\n",
       "    }\n",
       "\n",
       "    .dataframe thead th {\n",
       "        text-align: right;\n",
       "    }\n",
       "</style>\n",
       "<table border=\"1\" class=\"dataframe\">\n",
       "  <thead>\n",
       "    <tr style=\"text-align: right;\">\n",
       "      <th></th>\n",
       "      <th>date_month_start</th>\n",
       "      <th>net_price_lag_7</th>\n",
       "      <th>net_price_lag_28</th>\n",
       "      <th>net_price_lag_1</th>\n",
       "      <th>net_price</th>\n",
       "      <th>date</th>\n",
       "    </tr>\n",
       "  </thead>\n",
       "  <tbody>\n",
       "    <tr>\n",
       "      <th>0</th>\n",
       "      <td>0</td>\n",
       "      <td>-1.076879</td>\n",
       "      <td>5.909094</td>\n",
       "      <td>0.057816</td>\n",
       "      <td>5042942.0</td>\n",
       "      <td>2019-08-08</td>\n",
       "    </tr>\n",
       "    <tr>\n",
       "      <th>1</th>\n",
       "      <td>0</td>\n",
       "      <td>1.824821</td>\n",
       "      <td>2.914794</td>\n",
       "      <td>0.216489</td>\n",
       "      <td>2932270.5</td>\n",
       "      <td>2019-08-10</td>\n",
       "    </tr>\n",
       "    <tr>\n",
       "      <th>2</th>\n",
       "      <td>0</td>\n",
       "      <td>0.207312</td>\n",
       "      <td>0.364461</td>\n",
       "      <td>-0.349414</td>\n",
       "      <td>1809937.5</td>\n",
       "      <td>2019-08-12</td>\n",
       "    </tr>\n",
       "    <tr>\n",
       "      <th>3</th>\n",
       "      <td>0</td>\n",
       "      <td>-1.122481</td>\n",
       "      <td>1.342665</td>\n",
       "      <td>-0.650329</td>\n",
       "      <td>3067519.0</td>\n",
       "      <td>2019-08-13</td>\n",
       "    </tr>\n",
       "    <tr>\n",
       "      <th>4</th>\n",
       "      <td>0</td>\n",
       "      <td>-0.434004</td>\n",
       "      <td>1.281428</td>\n",
       "      <td>-0.313152</td>\n",
       "      <td>5123492.0</td>\n",
       "      <td>2019-08-14</td>\n",
       "    </tr>\n",
       "  </tbody>\n",
       "</table>\n",
       "</div>"
      ],
      "text/plain": [
       "   date_month_start  net_price_lag_7  net_price_lag_28  net_price_lag_1  \\\n",
       "0                 0        -1.076879          5.909094         0.057816   \n",
       "1                 0         1.824821          2.914794         0.216489   \n",
       "2                 0         0.207312          0.364461        -0.349414   \n",
       "3                 0        -1.122481          1.342665        -0.650329   \n",
       "4                 0        -0.434004          1.281428        -0.313152   \n",
       "\n",
       "   net_price       date  \n",
       "0  5042942.0 2019-08-08  \n",
       "1  2932270.5 2019-08-10  \n",
       "2  1809937.5 2019-08-12  \n",
       "3  3067519.0 2019-08-13  \n",
       "4  5123492.0 2019-08-14  "
      ]
     },
     "execution_count": 3,
     "metadata": {},
     "output_type": "execute_result"
    }
   ],
   "source": [
    "df.head()"
   ]
  },
  {
   "cell_type": "code",
   "execution_count": 4,
   "id": "e9d0bd8f",
   "metadata": {},
   "outputs": [
    {
     "data": {
      "text/plain": [
       "(1121, 6)"
      ]
     },
     "execution_count": 4,
     "metadata": {},
     "output_type": "execute_result"
    }
   ],
   "source": [
    "df.shape"
   ]
  },
  {
   "cell_type": "markdown",
   "id": "f2632df4",
   "metadata": {},
   "source": [
    "### Seperation X, y (features, Target) "
   ]
  },
  {
   "cell_type": "code",
   "execution_count": 9,
   "id": "9b1e3738",
   "metadata": {},
   "outputs": [],
   "source": [
    "# Seperation (X, y)\n",
    "X = df.drop(columns=['date','net_price'])\n",
    "y = df['net_price']"
   ]
  },
  {
   "cell_type": "markdown",
   "id": "9464e801",
   "metadata": {},
   "source": [
    "### 2.0 Split ( on scaled data)"
   ]
  },
  {
   "cell_type": "code",
   "execution_count": 5,
   "id": "7e10b99c",
   "metadata": {},
   "outputs": [],
   "source": [
    "from sklearn.model_selection import train_test_split"
   ]
  },
  {
   "cell_type": "code",
   "execution_count": 10,
   "id": "0680a0b5",
   "metadata": {},
   "outputs": [],
   "source": [
    "X_train, X_test, y_train, y_test = train_test_split(\n",
    "        X, y, test_size=0.25, random_state=42)"
   ]
  },
  {
   "cell_type": "markdown",
   "id": "1e4cc12e",
   "metadata": {},
   "source": []
  },
  {
   "cell_type": "code",
   "execution_count": 32,
   "id": "5d451f10",
   "metadata": {},
   "outputs": [
    {
     "name": "stdout",
     "output_type": "stream",
     "text": [
      "Train Size : (840, 4)\n",
      "Test Size : (281, 4)\n",
      "Train Size(y) : (840,)\n",
      "Test Size(y) : (281,)\n"
     ]
    }
   ],
   "source": [
    "# Verify Train & Test Size\n",
    "\n",
    "print(f'Train Size :',X_train.shape)\n",
    "print(f'Test Size :',X_test.shape)\n",
    "\n",
    "print(f'Train Size(y) :',y_train.shape)\n",
    "print(f'Test Size(y) :',y_test.shape)"
   ]
  },
  {
   "cell_type": "code",
   "execution_count": 30,
   "id": "b5dc36ec",
   "metadata": {},
   "outputs": [
    {
     "data": {
      "text/plain": [
       "1121"
      ]
     },
     "execution_count": 30,
     "metadata": {},
     "output_type": "execute_result"
    }
   ],
   "source": [
    "840+281"
   ]
  },
  {
   "cell_type": "code",
   "execution_count": 31,
   "id": "c9cea4fd",
   "metadata": {},
   "outputs": [
    {
     "data": {
      "text/plain": [
       "0.7493309545049064"
      ]
     },
     "execution_count": 31,
     "metadata": {},
     "output_type": "execute_result"
    }
   ],
   "source": [
    "840/1121"
   ]
  },
  {
   "cell_type": "markdown",
   "id": "a4dd5eb4",
   "metadata": {},
   "source": [
    "## 3.0 Experiments (Traditional/ Without MLflow)"
   ]
  },
  {
   "cell_type": "markdown",
   "id": "35ec30ea",
   "metadata": {},
   "source": [
    "## 3.1 Modeling - Ridge"
   ]
  },
  {
   "cell_type": "code",
   "execution_count": 38,
   "id": "18cc6855",
   "metadata": {},
   "outputs": [
    {
     "data": {
      "text/html": [
       "<style>#sk-container-id-2 {color: black;background-color: white;}#sk-container-id-2 pre{padding: 0;}#sk-container-id-2 div.sk-toggleable {background-color: white;}#sk-container-id-2 label.sk-toggleable__label {cursor: pointer;display: block;width: 100%;margin-bottom: 0;padding: 0.3em;box-sizing: border-box;text-align: center;}#sk-container-id-2 label.sk-toggleable__label-arrow:before {content: \"▸\";float: left;margin-right: 0.25em;color: #696969;}#sk-container-id-2 label.sk-toggleable__label-arrow:hover:before {color: black;}#sk-container-id-2 div.sk-estimator:hover label.sk-toggleable__label-arrow:before {color: black;}#sk-container-id-2 div.sk-toggleable__content {max-height: 0;max-width: 0;overflow: hidden;text-align: left;background-color: #f0f8ff;}#sk-container-id-2 div.sk-toggleable__content pre {margin: 0.2em;color: black;border-radius: 0.25em;background-color: #f0f8ff;}#sk-container-id-2 input.sk-toggleable__control:checked~div.sk-toggleable__content {max-height: 200px;max-width: 100%;overflow: auto;}#sk-container-id-2 input.sk-toggleable__control:checked~label.sk-toggleable__label-arrow:before {content: \"▾\";}#sk-container-id-2 div.sk-estimator input.sk-toggleable__control:checked~label.sk-toggleable__label {background-color: #d4ebff;}#sk-container-id-2 div.sk-label input.sk-toggleable__control:checked~label.sk-toggleable__label {background-color: #d4ebff;}#sk-container-id-2 input.sk-hidden--visually {border: 0;clip: rect(1px 1px 1px 1px);clip: rect(1px, 1px, 1px, 1px);height: 1px;margin: -1px;overflow: hidden;padding: 0;position: absolute;width: 1px;}#sk-container-id-2 div.sk-estimator {font-family: monospace;background-color: #f0f8ff;border: 1px dotted black;border-radius: 0.25em;box-sizing: border-box;margin-bottom: 0.5em;}#sk-container-id-2 div.sk-estimator:hover {background-color: #d4ebff;}#sk-container-id-2 div.sk-parallel-item::after {content: \"\";width: 100%;border-bottom: 1px solid gray;flex-grow: 1;}#sk-container-id-2 div.sk-label:hover label.sk-toggleable__label {background-color: #d4ebff;}#sk-container-id-2 div.sk-serial::before {content: \"\";position: absolute;border-left: 1px solid gray;box-sizing: border-box;top: 0;bottom: 0;left: 50%;z-index: 0;}#sk-container-id-2 div.sk-serial {display: flex;flex-direction: column;align-items: center;background-color: white;padding-right: 0.2em;padding-left: 0.2em;position: relative;}#sk-container-id-2 div.sk-item {position: relative;z-index: 1;}#sk-container-id-2 div.sk-parallel {display: flex;align-items: stretch;justify-content: center;background-color: white;position: relative;}#sk-container-id-2 div.sk-item::before, #sk-container-id-2 div.sk-parallel-item::before {content: \"\";position: absolute;border-left: 1px solid gray;box-sizing: border-box;top: 0;bottom: 0;left: 50%;z-index: -1;}#sk-container-id-2 div.sk-parallel-item {display: flex;flex-direction: column;z-index: 1;position: relative;background-color: white;}#sk-container-id-2 div.sk-parallel-item:first-child::after {align-self: flex-end;width: 50%;}#sk-container-id-2 div.sk-parallel-item:last-child::after {align-self: flex-start;width: 50%;}#sk-container-id-2 div.sk-parallel-item:only-child::after {width: 0;}#sk-container-id-2 div.sk-dashed-wrapped {border: 1px dashed gray;margin: 0 0.4em 0.5em 0.4em;box-sizing: border-box;padding-bottom: 0.4em;background-color: white;}#sk-container-id-2 div.sk-label label {font-family: monospace;font-weight: bold;display: inline-block;line-height: 1.2em;}#sk-container-id-2 div.sk-label-container {text-align: center;}#sk-container-id-2 div.sk-container {/* jupyter's `normalize.less` sets `[hidden] { display: none; }` but bootstrap.min.css set `[hidden] { display: none !important; }` so we also need the `!important` here to be able to override the default hidden behavior on the sphinx rendered scikit-learn.org. See: https://github.com/scikit-learn/scikit-learn/issues/21755 */display: inline-block !important;position: relative;}#sk-container-id-2 div.sk-text-repr-fallback {display: none;}</style><div id=\"sk-container-id-2\" class=\"sk-top-container\"><div class=\"sk-text-repr-fallback\"><pre>Ridge(random_state=42)</pre><b>In a Jupyter environment, please rerun this cell to show the HTML representation or trust the notebook. <br />On GitHub, the HTML representation is unable to render, please try loading this page with nbviewer.org.</b></div><div class=\"sk-container\" hidden><div class=\"sk-item\"><div class=\"sk-estimator sk-toggleable\"><input class=\"sk-toggleable__control sk-hidden--visually\" id=\"sk-estimator-id-2\" type=\"checkbox\" checked><label for=\"sk-estimator-id-2\" class=\"sk-toggleable__label sk-toggleable__label-arrow\">Ridge</label><div class=\"sk-toggleable__content\"><pre>Ridge(random_state=42)</pre></div></div></div></div></div>"
      ],
      "text/plain": [
       "Ridge(random_state=42)"
      ]
     },
     "execution_count": 38,
     "metadata": {},
     "output_type": "execute_result"
    }
   ],
   "source": [
    "# import library\n",
    "from sklearn.linear_model import Ridge\n",
    "\n",
    "# Modeling \n",
    "model_1= Ridge(\n",
    "    alpha=1.0, fit_intercept=True, copy_X=True, max_iter=None,\n",
    "    tol=0.0001, solver='auto', positive=False, random_state=42,\n",
    ")\n",
    "\n",
    "# Fit the model (X, y)\n",
    "model_1.fit(X ,y)           # fit the model by train data:  model_1.fit(X_train,y_train) "
   ]
  },
  {
   "cell_type": "markdown",
   "id": "f5400849",
   "metadata": {},
   "source": [
    "#### 3.2 Prediction "
   ]
  },
  {
   "cell_type": "code",
   "execution_count": 39,
   "id": "27ba0836",
   "metadata": {},
   "outputs": [
    {
     "data": {
      "text/plain": [
       "array([ 5535255.49040166,  3613965.08040027,  4244122.27372139,\n",
       "        4285015.48463783,  4304386.47100823,  6906420.72220553,\n",
       "        7354695.28547369,  5476844.98325647,  3161313.66098015,\n",
       "        4568202.93016301,  4516372.47377377,  4351463.09425969,\n",
       "        5368987.83821299,  4244993.50334674,  4709984.55038917,\n",
       "        4841983.43759774,  4249054.14175674,  5646496.48460204,\n",
       "        5142824.99667803,  3875333.06436909, 11123016.94106281,\n",
       "        3672333.80328703,  4403409.75413903,  5051118.44967768,\n",
       "        4525904.95475153,  4975031.98563993,  4209348.97434574,\n",
       "        3974298.00712086,  4470480.53754083,  3858963.47527312,\n",
       "        6347274.95418761,  4777102.84427903,  3805986.08902524,\n",
       "        4699896.62030453, 11265690.75957021,  4375351.03693851,\n",
       "        4300359.94994924,  3095247.43338467,  7201763.52799516,\n",
       "        4591566.2930394 ,  3874303.35692398,  4656330.0745092 ,\n",
       "        4674045.22072226,  3840942.6965019 ,  4480881.89889589,\n",
       "        5883824.82516134,  5796245.44931752,  3915248.31075131,\n",
       "        3816002.36285844,  4039922.93990452,  5436554.69570199,\n",
       "        4155097.23964463,  8130609.4620395 ,  4554033.38695568,\n",
       "        4913491.17878237,  4736463.01154198,  4488040.47589648,\n",
       "        4542769.92648537,  3843145.15548636,  3591508.49266743,\n",
       "        3914465.36649769,  3033174.39609418,  6518913.58741598,\n",
       "        4075915.17597357,  4792532.25624306,  5776436.11078651,\n",
       "        5286484.30288537,  5084785.61106004,  4588516.6695407 ,\n",
       "        4545072.86739787,  5553569.37168166,  4423080.00753985,\n",
       "        4737461.44011598,  5140994.40521769,  4839156.91479625,\n",
       "        5353663.63401405,  4014229.78424516,  5534541.34193856,\n",
       "       11374770.41434827,  4190024.83253057,  4734844.65135289,\n",
       "        5509198.89160813,  4359259.60200161, 10937251.97982283,\n",
       "        3719492.09400651,  4183212.63520283,  4527338.98295705,\n",
       "        8352001.13611006,  7459329.61454973,  4817750.85865912,\n",
       "        4152269.40310758,  3314620.19504104,  3975002.56864513,\n",
       "        4257110.74948552,  4946671.82497129,  3688767.90261593,\n",
       "        6167062.54406784,  3084242.49313363,  5814629.36781841,\n",
       "        4377058.85455696,  6793518.34026894,  3696055.11707992,\n",
       "        5012933.8874597 ,  4030649.45696638,  4464547.002878  ,\n",
       "        4668340.54250323,  7077636.58420395,  3433996.64161824,\n",
       "        4879185.23725905,  4364268.14856394,  3626668.28143224,\n",
       "        4664333.76175096,  4674565.46157714,  5707228.30624751,\n",
       "        4762565.24559576,  4073408.58431118,  4406720.98521097,\n",
       "        3634311.3736587 ,  6691514.0826872 ,  6597238.31663011,\n",
       "        4306852.92709327,  3953244.80329622,  5358905.72496744,\n",
       "        4768410.69787558,  3743297.38442045,  3055641.92574092,\n",
       "        4634725.23833326,  3576549.77186872,  3378033.9540152 ,\n",
       "        4941575.99200035,  5679667.28473168,  4898151.55193095,\n",
       "        6108671.88862744,  4436366.68515639, 12875946.77477694,\n",
       "        4981085.508779  ,  4001306.08375168,  5368898.00707865,\n",
       "        3846242.27451993,  3770437.87686303,  4819578.46877687,\n",
       "        3849433.26977128,  4241870.78690095,  3882587.6424864 ,\n",
       "        4793742.95773723,  3869399.63799988,  4071296.8865269 ,\n",
       "        5070987.92480608,  3709928.69767575,  6395349.31723566,\n",
       "        4212763.81571506,  4721866.92853645,  4678833.8576652 ,\n",
       "       13350218.64012058,  3988445.50372182,  3926557.92876484,\n",
       "        4602110.54721512, 12676431.71162949,  3613377.07582758,\n",
       "        4580525.67921736,  3587224.65703994,  4641660.86641176,\n",
       "        6136087.95897556,  5915068.12936015,  3997396.76663362,\n",
       "        3603912.41010375,  5008684.27965963,  6872629.7565829 ,\n",
       "       13284037.59168594,  6209738.75735716,  7532074.48911857,\n",
       "        4186604.58114644,  4159166.46316347,  5157065.3356629 ,\n",
       "        3825325.07474474,  4416301.20517067,  5149944.83942253,\n",
       "        5058861.27865947,  4214995.64455094,  4517244.94487335,\n",
       "        3618932.47400191,  4099487.75649881,  3846730.97587876,\n",
       "        4162129.07052993,  4023030.86585669,  5372054.63813785,\n",
       "        4291854.67543635,  4261037.77273851,  4512615.74696123,\n",
       "        3073365.48690845,  3965835.2340924 ,  4817899.69536511,\n",
       "        3678164.55829531,  3757344.7289479 ,  4153087.58015211,\n",
       "        5950982.41703185,  5696518.47265802,  4854463.9127524 ,\n",
       "        3981446.12219472,  4324524.77563012,  3383025.12112459,\n",
       "        5346947.73235881,  5736048.48695097,  5329638.53861407,\n",
       "        3999335.37455045,  3847163.79177803,  8461570.85078835,\n",
       "        3437489.61378752,  4367930.46092707,  4242883.2923972 ,\n",
       "        4071231.01788298,  3977793.52289994,  3290468.80608837,\n",
       "        3631445.69640024,  3332808.99032662,  5022858.87691876,\n",
       "        4477659.81424208,  5154941.23592027,  5820594.82610115,\n",
       "        4048612.38060082,  4249415.25972116,  6134337.63903723,\n",
       "        6061629.59537603,  4473929.17308148,  3625299.03543471,\n",
       "        5618315.53507573,  3865913.9290974 ,  4894337.63772288,\n",
       "        4086341.74956701,  4908777.21948801,  5953292.91563482,\n",
       "        5594643.85292397, 11162335.83167431,  4087122.0645938 ,\n",
       "        3313007.59283803,  6558153.15483112,  6499415.03124622,\n",
       "        3819042.67587025,  5008812.94370667,  4411479.26614578,\n",
       "        4363380.88456669,  5034187.05401504,  4403197.09589796,\n",
       "        4776566.23562981,  6760875.04206085,  5800204.92417695,\n",
       "        6212373.80657303,  5291580.16863073,  3490137.00726464,\n",
       "        4424257.88846171,  5147669.64065166,  3259064.49749453,\n",
       "        4377552.53255953,  9732163.21215508,  4464867.95677301,\n",
       "        4012780.84912792,  6506158.34718076,  4451118.63237322,\n",
       "        4803596.38462933,  4985714.77120686,  5092562.21391139,\n",
       "        4169501.0239512 ,  4538993.83298588,  6205339.7954603 ,\n",
       "        4695576.98459066,  5043363.99675904,  3634964.88350205,\n",
       "        6260858.34752656,  5824798.97648033,  3663352.96271218,\n",
       "        4606164.83872153,  4859893.31724241,  3116589.97645445,\n",
       "        4411182.58952558,  5472763.09996028,  5203887.26410915,\n",
       "        3973434.27410306,  4918943.08373125,  4468825.66677791,\n",
       "        4628323.63891268,  6440024.53119159])"
      ]
     },
     "execution_count": 39,
     "metadata": {},
     "output_type": "execute_result"
    }
   ],
   "source": [
    "model_1.predict(X_test) # predicted values on test data (281)"
   ]
  },
  {
   "cell_type": "markdown",
   "id": "d3a1c244",
   "metadata": {},
   "source": [
    "#### 3.3 Evaluation"
   ]
  },
  {
   "cell_type": "code",
   "execution_count": 40,
   "id": "a61e90fc",
   "metadata": {},
   "outputs": [],
   "source": [
    "# Evaluation metrics\n",
    "from sklearn.metrics import mean_squared_error, mean_absolute_error, r2_score, mean_absolute_percentage_error"
   ]
  },
  {
   "cell_type": "code",
   "execution_count": 41,
   "id": "ce3f2c1f",
   "metadata": {},
   "outputs": [
    {
     "name": "stdout",
     "output_type": "stream",
     "text": [
      "MAPE : 0.46371808152862626\n",
      "R2 : -2.7886696445472214\n",
      "MSE : 10262326816593.672\n",
      "MAE : 2259902.6777154887\n"
     ]
    }
   ],
   "source": [
    "# Evaluation # X_test:actual, y_test:prediction\n",
    "print(f'MAPE :', mean_absolute_percentage_error(model_1.predict(X_test), y_test))\n",
    "print(f'R2 :', r2_score(model_1.predict(X_test), y_test))\n",
    "print(f'MSE :', mean_squared_error(model_1.predict(X_test), y_test))\n",
    "print(f'MAE :', mean_absolute_error(model_1.predict(X_test), y_test))"
   ]
  },
  {
   "cell_type": "code",
   "execution_count": null,
   "id": "e1c9fe17",
   "metadata": {},
   "outputs": [],
   "source": []
  },
  {
   "cell_type": "markdown",
   "id": "c05c3e39",
   "metadata": {},
   "source": [
    "## 4.0 Modeling - Decision Tree"
   ]
  },
  {
   "cell_type": "code",
   "execution_count": 44,
   "id": "ae43ab6a",
   "metadata": {},
   "outputs": [
    {
     "data": {
      "text/html": [
       "<style>#sk-container-id-3 {color: black;background-color: white;}#sk-container-id-3 pre{padding: 0;}#sk-container-id-3 div.sk-toggleable {background-color: white;}#sk-container-id-3 label.sk-toggleable__label {cursor: pointer;display: block;width: 100%;margin-bottom: 0;padding: 0.3em;box-sizing: border-box;text-align: center;}#sk-container-id-3 label.sk-toggleable__label-arrow:before {content: \"▸\";float: left;margin-right: 0.25em;color: #696969;}#sk-container-id-3 label.sk-toggleable__label-arrow:hover:before {color: black;}#sk-container-id-3 div.sk-estimator:hover label.sk-toggleable__label-arrow:before {color: black;}#sk-container-id-3 div.sk-toggleable__content {max-height: 0;max-width: 0;overflow: hidden;text-align: left;background-color: #f0f8ff;}#sk-container-id-3 div.sk-toggleable__content pre {margin: 0.2em;color: black;border-radius: 0.25em;background-color: #f0f8ff;}#sk-container-id-3 input.sk-toggleable__control:checked~div.sk-toggleable__content {max-height: 200px;max-width: 100%;overflow: auto;}#sk-container-id-3 input.sk-toggleable__control:checked~label.sk-toggleable__label-arrow:before {content: \"▾\";}#sk-container-id-3 div.sk-estimator input.sk-toggleable__control:checked~label.sk-toggleable__label {background-color: #d4ebff;}#sk-container-id-3 div.sk-label input.sk-toggleable__control:checked~label.sk-toggleable__label {background-color: #d4ebff;}#sk-container-id-3 input.sk-hidden--visually {border: 0;clip: rect(1px 1px 1px 1px);clip: rect(1px, 1px, 1px, 1px);height: 1px;margin: -1px;overflow: hidden;padding: 0;position: absolute;width: 1px;}#sk-container-id-3 div.sk-estimator {font-family: monospace;background-color: #f0f8ff;border: 1px dotted black;border-radius: 0.25em;box-sizing: border-box;margin-bottom: 0.5em;}#sk-container-id-3 div.sk-estimator:hover {background-color: #d4ebff;}#sk-container-id-3 div.sk-parallel-item::after {content: \"\";width: 100%;border-bottom: 1px solid gray;flex-grow: 1;}#sk-container-id-3 div.sk-label:hover label.sk-toggleable__label {background-color: #d4ebff;}#sk-container-id-3 div.sk-serial::before {content: \"\";position: absolute;border-left: 1px solid gray;box-sizing: border-box;top: 0;bottom: 0;left: 50%;z-index: 0;}#sk-container-id-3 div.sk-serial {display: flex;flex-direction: column;align-items: center;background-color: white;padding-right: 0.2em;padding-left: 0.2em;position: relative;}#sk-container-id-3 div.sk-item {position: relative;z-index: 1;}#sk-container-id-3 div.sk-parallel {display: flex;align-items: stretch;justify-content: center;background-color: white;position: relative;}#sk-container-id-3 div.sk-item::before, #sk-container-id-3 div.sk-parallel-item::before {content: \"\";position: absolute;border-left: 1px solid gray;box-sizing: border-box;top: 0;bottom: 0;left: 50%;z-index: -1;}#sk-container-id-3 div.sk-parallel-item {display: flex;flex-direction: column;z-index: 1;position: relative;background-color: white;}#sk-container-id-3 div.sk-parallel-item:first-child::after {align-self: flex-end;width: 50%;}#sk-container-id-3 div.sk-parallel-item:last-child::after {align-self: flex-start;width: 50%;}#sk-container-id-3 div.sk-parallel-item:only-child::after {width: 0;}#sk-container-id-3 div.sk-dashed-wrapped {border: 1px dashed gray;margin: 0 0.4em 0.5em 0.4em;box-sizing: border-box;padding-bottom: 0.4em;background-color: white;}#sk-container-id-3 div.sk-label label {font-family: monospace;font-weight: bold;display: inline-block;line-height: 1.2em;}#sk-container-id-3 div.sk-label-container {text-align: center;}#sk-container-id-3 div.sk-container {/* jupyter's `normalize.less` sets `[hidden] { display: none; }` but bootstrap.min.css set `[hidden] { display: none !important; }` so we also need the `!important` here to be able to override the default hidden behavior on the sphinx rendered scikit-learn.org. See: https://github.com/scikit-learn/scikit-learn/issues/21755 */display: inline-block !important;position: relative;}#sk-container-id-3 div.sk-text-repr-fallback {display: none;}</style><div id=\"sk-container-id-3\" class=\"sk-top-container\"><div class=\"sk-text-repr-fallback\"><pre>DecisionTreeRegressor(min_samples_leaf=2, random_state=42)</pre><b>In a Jupyter environment, please rerun this cell to show the HTML representation or trust the notebook. <br />On GitHub, the HTML representation is unable to render, please try loading this page with nbviewer.org.</b></div><div class=\"sk-container\" hidden><div class=\"sk-item\"><div class=\"sk-estimator sk-toggleable\"><input class=\"sk-toggleable__control sk-hidden--visually\" id=\"sk-estimator-id-3\" type=\"checkbox\" checked><label for=\"sk-estimator-id-3\" class=\"sk-toggleable__label sk-toggleable__label-arrow\">DecisionTreeRegressor</label><div class=\"sk-toggleable__content\"><pre>DecisionTreeRegressor(min_samples_leaf=2, random_state=42)</pre></div></div></div></div></div>"
      ],
      "text/plain": [
       "DecisionTreeRegressor(min_samples_leaf=2, random_state=42)"
      ]
     },
     "execution_count": 44,
     "metadata": {},
     "output_type": "execute_result"
    }
   ],
   "source": [
    "# a_import library\n",
    "from sklearn.tree import DecisionTreeRegressor\n",
    "\n",
    "# b_Object Creation\n",
    "model_2 = DecisionTreeRegressor(\n",
    "    criterion='squared_error', splitter='best', \n",
    "    max_depth=None, min_samples_split=2, \n",
    "    min_samples_leaf=2, min_weight_fraction_leaf=0.0, \n",
    "    max_features=None, random_state=42, max_leaf_nodes=None, \n",
    "    min_impurity_decrease=0.0, ccp_alpha=0.0\n",
    ")\n",
    "\n",
    "# c_fit the model\n",
    "model_2.fit(X, y)"
   ]
  },
  {
   "cell_type": "code",
   "execution_count": 49,
   "id": "d9ff728e",
   "metadata": {},
   "outputs": [
    {
     "data": {
      "text/plain": [
       "array([3.10277181e+06, 4.54078600e+06, 9.94923388e+05, 3.94788625e+06,\n",
       "       4.56199050e+06, 1.61635570e+07, 5.97099667e+06, 6.88712067e+06,\n",
       "       2.36705946e+06, 5.09475475e+06, 4.61074425e+06, 2.82834250e+06,\n",
       "       4.15281562e+06, 1.78326304e+06, 4.99349600e+06, 4.08554358e+06,\n",
       "       4.89365162e+05, 4.02349592e+06, 1.60428416e+06, 4.43386225e+06,\n",
       "       8.92241125e+06, 3.83140225e+06, 5.34797850e+06, 3.99735908e+06,\n",
       "       6.71071625e+06, 5.45916917e+06, 1.78326304e+06, 1.80605481e+06,\n",
       "       1.34504336e+05, 3.15411562e+06, 6.82241700e+06, 6.11320312e+06,\n",
       "       1.51295633e+06, 8.45756566e+05, 1.42432815e+07, 4.94560850e+06,\n",
       "       5.09475475e+06, 4.69655950e+06, 1.07028805e+07, 6.41575583e+06,\n",
       "       2.85094362e+06, 1.55830868e+06, 7.21239167e+06, 1.19586756e+06,\n",
       "       2.57670511e+06, 6.61309150e+06, 6.20513833e+06, 7.78437550e+06,\n",
       "       1.65030488e+06, 2.86008917e+06, 3.07177663e+06, 1.95947381e+06,\n",
       "       4.22301139e+06, 4.81878025e+06, 3.87838650e+06, 6.17833275e+06,\n",
       "       6.57710375e+06, 4.06173450e+06, 4.32654225e+06, 1.20608745e+07,\n",
       "       1.63468206e+06, 6.89303376e+04, 8.57297250e+06, 2.36067862e+06,\n",
       "       1.17305397e+06, 7.29712400e+06, 4.88004450e+06, 2.22085000e+06,\n",
       "       9.96586425e+06, 3.12466796e+06, 2.31420579e+06, 6.84343975e+06,\n",
       "       5.41015800e+06, 2.43484272e+06, 5.34464075e+06, 1.21169385e+07,\n",
       "       5.52811750e+06, 3.88125375e+06, 1.56102260e+07, 3.26628200e+06,\n",
       "       4.94846425e+06, 4.35688700e+06, 3.06894980e+04, 8.92241125e+06,\n",
       "       4.95834175e+06, 5.34797850e+06, 1.37614600e+07, 1.26182170e+07,\n",
       "       5.98443925e+06, 1.38640781e+06, 4.10499642e+06, 5.23458625e+06,\n",
       "       2.13620450e+06, 4.18656475e+06, 8.61199500e+06, 6.25183858e+06,\n",
       "       1.23363925e+07, 1.54103207e+05, 2.73376933e+06, 1.65060707e+06,\n",
       "       5.48546750e+06, 1.72799432e+06, 5.45916917e+06, 2.18128175e+06,\n",
       "       6.92321483e+06, 1.56001695e+07, 5.48546750e+06, 1.20608745e+07,\n",
       "       1.18891914e+04, 7.55695475e+06, 5.23458625e+06, 2.56804625e+06,\n",
       "       3.79055088e+06, 4.47958988e+06, 3.39566125e+06, 7.42700017e+06,\n",
       "       7.29660525e+06, 2.66964275e+06, 6.76153617e+06, 4.60961525e+06,\n",
       "       2.64398775e+06, 2.88868550e+06, 5.19506000e+06, 5.82488583e+06,\n",
       "       3.80255838e+06, 9.16113027e+04, 1.53039162e+06, 3.32706575e+06,\n",
       "       1.69495481e+06, 7.21239167e+06, 8.23945600e+06, 6.80231478e+03,\n",
       "       7.24778600e+06, 3.48180950e+06, 1.61344353e+07, 7.65480167e+06,\n",
       "       4.89365162e+05, 1.00626813e+07, 6.65007400e+06, 2.25254104e+06,\n",
       "       9.84779775e+06, 2.18100381e+06, 2.80701712e+06, 2.92366458e+06,\n",
       "       5.72569175e+06, 3.44123400e+06, 4.31059825e+06, 2.22085000e+06,\n",
       "       3.83140225e+06, 1.37251122e+06, 2.46879531e+06, 8.35972583e+06,\n",
       "       4.56271925e+06, 8.30783950e+06, 4.67576067e+06, 4.53237275e+06,\n",
       "       4.00149275e+06, 8.30783950e+06, 6.07194900e+06, 3.86731625e+06,\n",
       "       1.81687156e+06, 2.38097056e+06, 2.45478350e+06, 7.34427683e+06,\n",
       "       2.48780012e+06, 2.53311025e+06, 3.87479888e+06, 1.61635570e+07,\n",
       "       1.15553100e+07, 8.93004160e+04, 1.90860487e+07, 1.06843312e+07,\n",
       "       7.24512250e+06, 9.39633600e+06, 9.87429510e+05, 4.49109300e+06,\n",
       "       9.07652161e+04, 2.88866446e+06, 3.64012462e+06, 3.16903575e+06,\n",
       "       3.13531292e+06, 5.88583575e+06, 3.13531292e+06, 4.64057275e+06,\n",
       "       3.98016050e+06, 6.88712067e+06, 3.20976033e+06, 7.45821300e+06,\n",
       "       6.84343975e+06, 1.66498880e+06, 4.05221358e+06, 5.25250050e+06,\n",
       "       1.69495481e+06, 1.63468206e+06, 6.96025067e+06, 4.04936938e+06,\n",
       "       4.23739025e+06, 4.48086350e+06, 1.36391225e+06, 2.82676716e+06,\n",
       "       1.48870225e+06, 2.23322866e+06, 4.85383642e+06, 6.87202625e+06,\n",
       "       3.08972400e+06, 3.42360750e+06, 4.29909365e+06, 3.19325038e+06,\n",
       "       5.88731700e+06, 4.07765342e+06, 4.12036558e+06, 4.92069448e+05,\n",
       "       3.96093733e+06, 2.05474442e+06, 8.19398755e+05, 4.32557875e+06,\n",
       "       2.05474442e+06, 4.56271925e+06, 2.83142077e+06, 2.77888912e+06,\n",
       "       6.34985175e+06, 8.97518708e+05, 1.00170675e+07, 6.41519200e+06,\n",
       "       7.02546438e+05, 4.08554358e+06, 6.65007400e+06, 4.00291512e+06,\n",
       "       2.40591050e+06, 5.37577000e+06, 4.39939225e+06, 3.75572750e+06,\n",
       "       1.18647387e+07, 4.30026467e+06, 2.53311025e+06, 3.69539000e+06,\n",
       "       5.97099667e+06, 3.42360750e+06, 5.29223150e+06, 2.61909250e+06,\n",
       "       6.80231478e+03, 4.22409188e+06, 2.33354050e+06, 2.81056838e+06,\n",
       "       9.83670150e+06, 5.29223150e+06, 6.76433983e+06, 9.84779775e+06,\n",
       "       5.92939825e+06, 7.21741875e+06, 1.40076456e+06, 5.47826975e+06,\n",
       "       2.00684188e+06, 1.06604695e+05, 7.21741875e+06, 4.43386225e+06,\n",
       "       6.82241700e+06, 2.57670511e+06, 3.79276338e+06, 5.72569175e+06,\n",
       "       5.44086670e+04, 6.20900025e+06, 5.75848050e+06, 8.67794500e+06,\n",
       "       3.86731625e+06, 1.00959750e+05, 3.32706575e+06, 1.07703951e+06,\n",
       "       3.75572750e+06, 1.81687156e+06, 4.12910058e+06, 6.41575583e+06,\n",
       "       3.74879612e+06, 4.40586233e+06, 4.88004450e+06, 1.19217876e+06,\n",
       "       4.92069448e+05, 4.39413075e+06, 9.84880851e+05, 4.31059825e+06,\n",
       "       1.87779530e+07])"
      ]
     },
     "execution_count": 49,
     "metadata": {},
     "output_type": "execute_result"
    }
   ],
   "source": [
    "# d_Prediction\n",
    "model_2.predict(X_test)"
   ]
  },
  {
   "cell_type": "code",
   "execution_count": 48,
   "id": "979792df",
   "metadata": {},
   "outputs": [
    {
     "data": {
      "text/plain": [
       "(281,)"
      ]
     },
     "execution_count": 48,
     "metadata": {},
     "output_type": "execute_result"
    }
   ],
   "source": [
    "model_2.predict(X_test).shape"
   ]
  },
  {
   "cell_type": "markdown",
   "id": "8b2f3cf9",
   "metadata": {},
   "source": [
    "#### e_ Evaluation (Decision Tree)"
   ]
  },
  {
   "cell_type": "code",
   "execution_count": 50,
   "id": "fb6ecdcc",
   "metadata": {},
   "outputs": [],
   "source": [
    "# Evaluation metrics\n",
    "from sklearn.metrics import mean_squared_error, mean_absolute_error, r2_score, mean_absolute_percentage_error"
   ]
  },
  {
   "cell_type": "code",
   "execution_count": 51,
   "id": "1605dc73",
   "metadata": {},
   "outputs": [
    {
     "name": "stdout",
     "output_type": "stream",
     "text": [
      "MAPE : 0.26763325759441753\n",
      "R2 : 0.833328255386987\n",
      "MSE : 1882495216333.3372\n",
      "MAE : 880467.033649413\n"
     ]
    }
   ],
   "source": [
    "# Evaluation (Actual- Prediction)\n",
    "print(f'MAPE :', mean_absolute_percentage_error(model_2.predict(X_test), y_test))\n",
    "print(f'R2 :', r2_score(model_2.predict(X_test), y_test))\n",
    "print(f'MSE :', mean_squared_error(model_2.predict(X_test), y_test))\n",
    "print(f'MAE :', mean_absolute_error(model_2.predict(X_test), y_test))"
   ]
  },
  {
   "cell_type": "code",
   "execution_count": null,
   "id": "a04b7e52",
   "metadata": {},
   "outputs": [],
   "source": []
  },
  {
   "cell_type": "markdown",
   "id": "49071aa2",
   "metadata": {},
   "source": [
    "## 5.0 Modeling - Random Forest"
   ]
  },
  {
   "cell_type": "code",
   "execution_count": 52,
   "id": "24788f2d",
   "metadata": {},
   "outputs": [
    {
     "data": {
      "text/html": [
       "<style>#sk-container-id-4 {color: black;background-color: white;}#sk-container-id-4 pre{padding: 0;}#sk-container-id-4 div.sk-toggleable {background-color: white;}#sk-container-id-4 label.sk-toggleable__label {cursor: pointer;display: block;width: 100%;margin-bottom: 0;padding: 0.3em;box-sizing: border-box;text-align: center;}#sk-container-id-4 label.sk-toggleable__label-arrow:before {content: \"▸\";float: left;margin-right: 0.25em;color: #696969;}#sk-container-id-4 label.sk-toggleable__label-arrow:hover:before {color: black;}#sk-container-id-4 div.sk-estimator:hover label.sk-toggleable__label-arrow:before {color: black;}#sk-container-id-4 div.sk-toggleable__content {max-height: 0;max-width: 0;overflow: hidden;text-align: left;background-color: #f0f8ff;}#sk-container-id-4 div.sk-toggleable__content pre {margin: 0.2em;color: black;border-radius: 0.25em;background-color: #f0f8ff;}#sk-container-id-4 input.sk-toggleable__control:checked~div.sk-toggleable__content {max-height: 200px;max-width: 100%;overflow: auto;}#sk-container-id-4 input.sk-toggleable__control:checked~label.sk-toggleable__label-arrow:before {content: \"▾\";}#sk-container-id-4 div.sk-estimator input.sk-toggleable__control:checked~label.sk-toggleable__label {background-color: #d4ebff;}#sk-container-id-4 div.sk-label input.sk-toggleable__control:checked~label.sk-toggleable__label {background-color: #d4ebff;}#sk-container-id-4 input.sk-hidden--visually {border: 0;clip: rect(1px 1px 1px 1px);clip: rect(1px, 1px, 1px, 1px);height: 1px;margin: -1px;overflow: hidden;padding: 0;position: absolute;width: 1px;}#sk-container-id-4 div.sk-estimator {font-family: monospace;background-color: #f0f8ff;border: 1px dotted black;border-radius: 0.25em;box-sizing: border-box;margin-bottom: 0.5em;}#sk-container-id-4 div.sk-estimator:hover {background-color: #d4ebff;}#sk-container-id-4 div.sk-parallel-item::after {content: \"\";width: 100%;border-bottom: 1px solid gray;flex-grow: 1;}#sk-container-id-4 div.sk-label:hover label.sk-toggleable__label {background-color: #d4ebff;}#sk-container-id-4 div.sk-serial::before {content: \"\";position: absolute;border-left: 1px solid gray;box-sizing: border-box;top: 0;bottom: 0;left: 50%;z-index: 0;}#sk-container-id-4 div.sk-serial {display: flex;flex-direction: column;align-items: center;background-color: white;padding-right: 0.2em;padding-left: 0.2em;position: relative;}#sk-container-id-4 div.sk-item {position: relative;z-index: 1;}#sk-container-id-4 div.sk-parallel {display: flex;align-items: stretch;justify-content: center;background-color: white;position: relative;}#sk-container-id-4 div.sk-item::before, #sk-container-id-4 div.sk-parallel-item::before {content: \"\";position: absolute;border-left: 1px solid gray;box-sizing: border-box;top: 0;bottom: 0;left: 50%;z-index: -1;}#sk-container-id-4 div.sk-parallel-item {display: flex;flex-direction: column;z-index: 1;position: relative;background-color: white;}#sk-container-id-4 div.sk-parallel-item:first-child::after {align-self: flex-end;width: 50%;}#sk-container-id-4 div.sk-parallel-item:last-child::after {align-self: flex-start;width: 50%;}#sk-container-id-4 div.sk-parallel-item:only-child::after {width: 0;}#sk-container-id-4 div.sk-dashed-wrapped {border: 1px dashed gray;margin: 0 0.4em 0.5em 0.4em;box-sizing: border-box;padding-bottom: 0.4em;background-color: white;}#sk-container-id-4 div.sk-label label {font-family: monospace;font-weight: bold;display: inline-block;line-height: 1.2em;}#sk-container-id-4 div.sk-label-container {text-align: center;}#sk-container-id-4 div.sk-container {/* jupyter's `normalize.less` sets `[hidden] { display: none; }` but bootstrap.min.css set `[hidden] { display: none !important; }` so we also need the `!important` here to be able to override the default hidden behavior on the sphinx rendered scikit-learn.org. See: https://github.com/scikit-learn/scikit-learn/issues/21755 */display: inline-block !important;position: relative;}#sk-container-id-4 div.sk-text-repr-fallback {display: none;}</style><div id=\"sk-container-id-4\" class=\"sk-top-container\"><div class=\"sk-text-repr-fallback\"><pre>RandomForestRegressor(max_depth=5, n_estimators=20, random_state=33)</pre><b>In a Jupyter environment, please rerun this cell to show the HTML representation or trust the notebook. <br />On GitHub, the HTML representation is unable to render, please try loading this page with nbviewer.org.</b></div><div class=\"sk-container\" hidden><div class=\"sk-item\"><div class=\"sk-estimator sk-toggleable\"><input class=\"sk-toggleable__control sk-hidden--visually\" id=\"sk-estimator-id-4\" type=\"checkbox\" checked><label for=\"sk-estimator-id-4\" class=\"sk-toggleable__label sk-toggleable__label-arrow\">RandomForestRegressor</label><div class=\"sk-toggleable__content\"><pre>RandomForestRegressor(max_depth=5, n_estimators=20, random_state=33)</pre></div></div></div></div></div>"
      ],
      "text/plain": [
       "RandomForestRegressor(max_depth=5, n_estimators=20, random_state=33)"
      ]
     },
     "execution_count": 52,
     "metadata": {},
     "output_type": "execute_result"
    }
   ],
   "source": [
    "# a_import model\n",
    "from sklearn.ensemble import RandomForestRegressor\n",
    "\n",
    "# b_object creation\n",
    "model_3 = RandomForestRegressor(\n",
    "    n_estimators=20, criterion='squared_error',\n",
    "    max_depth=5, # max dept= 'none' limit it by 5 for optimization\n",
    "    min_samples_split=2, \n",
    "    min_samples_leaf=1, \n",
    "    min_weight_fraction_leaf=0.0, \n",
    "    max_features=1.0, \n",
    "    max_leaf_nodes=None, \n",
    "    min_impurity_decrease=0.0, \n",
    "    bootstrap=True, \n",
    "    oob_score=False, \n",
    "    n_jobs=None, \n",
    "    random_state=33, \n",
    "    verbose=0, \n",
    "    warm_start=False, \n",
    "    ccp_alpha=0.0, \n",
    "    max_samples=None\n",
    ") \n",
    "\n",
    "# c_ fit/ train the model\n",
    "model_3.fit(X, y)"
   ]
  },
  {
   "cell_type": "code",
   "execution_count": 54,
   "id": "340abb89",
   "metadata": {},
   "outputs": [
    {
     "data": {
      "text/plain": [
       "(281,)"
      ]
     },
     "execution_count": 54,
     "metadata": {},
     "output_type": "execute_result"
    }
   ],
   "source": [
    "# d_ prediction\n",
    "model_3.predict(X_test).shape"
   ]
  },
  {
   "cell_type": "markdown",
   "id": "83670f8b",
   "metadata": {},
   "source": [
    "#### e_ Evaluation"
   ]
  },
  {
   "cell_type": "code",
   "execution_count": 55,
   "id": "4512c9eb",
   "metadata": {},
   "outputs": [],
   "source": [
    "# e_1 Evaluation metrics\n",
    "from sklearn.metrics import mean_squared_error, mean_absolute_error, mean_absolute_percentage_error, r2_score"
   ]
  },
  {
   "cell_type": "code",
   "execution_count": 59,
   "id": "41e1df2d",
   "metadata": {},
   "outputs": [
    {
     "name": "stdout",
     "output_type": "stream",
     "text": [
      "MAPE : 0.42937046958455277\n",
      "R2 : -1.9061555490553168\n",
      "MSE : 8404690505988.794\n",
      "MAE : 2078426.6301144802\n"
     ]
    }
   ],
   "source": [
    "# Evaluation (Actual- Prediction)\n",
    "print(f'MAPE :',mean_absolute_percentage_error(model_3.predict(X_test), y_test))\n",
    "print(f'R2 :', r2_score(model_3.predict(X_test), y_test))\n",
    "print(f'MSE :',mean_squared_error(model_3.predict(X_test), y_test))\n",
    "print(f'MAE :', mean_absolute_error(model_3.predict(X_test), y_test))"
   ]
  },
  {
   "cell_type": "code",
   "execution_count": null,
   "id": "04dc49d6",
   "metadata": {},
   "outputs": [],
   "source": []
  },
  {
   "cell_type": "markdown",
   "id": "ab4bd973",
   "metadata": {},
   "source": [
    "## 6.0 Modeling - XGBoost"
   ]
  },
  {
   "cell_type": "code",
   "execution_count": 60,
   "id": "cc57d3b3",
   "metadata": {},
   "outputs": [],
   "source": [
    "# a_import package\n",
    "#pip install xgboost                           # its not default, so need installed if not pre-installed\n",
    "\n",
    "import xgboost as xgb"
   ]
  },
  {
   "cell_type": "code",
   "execution_count": 65,
   "id": "73e1f53f",
   "metadata": {},
   "outputs": [
    {
     "data": {
      "text/html": [
       "<style>#sk-container-id-5 {color: black;background-color: white;}#sk-container-id-5 pre{padding: 0;}#sk-container-id-5 div.sk-toggleable {background-color: white;}#sk-container-id-5 label.sk-toggleable__label {cursor: pointer;display: block;width: 100%;margin-bottom: 0;padding: 0.3em;box-sizing: border-box;text-align: center;}#sk-container-id-5 label.sk-toggleable__label-arrow:before {content: \"▸\";float: left;margin-right: 0.25em;color: #696969;}#sk-container-id-5 label.sk-toggleable__label-arrow:hover:before {color: black;}#sk-container-id-5 div.sk-estimator:hover label.sk-toggleable__label-arrow:before {color: black;}#sk-container-id-5 div.sk-toggleable__content {max-height: 0;max-width: 0;overflow: hidden;text-align: left;background-color: #f0f8ff;}#sk-container-id-5 div.sk-toggleable__content pre {margin: 0.2em;color: black;border-radius: 0.25em;background-color: #f0f8ff;}#sk-container-id-5 input.sk-toggleable__control:checked~div.sk-toggleable__content {max-height: 200px;max-width: 100%;overflow: auto;}#sk-container-id-5 input.sk-toggleable__control:checked~label.sk-toggleable__label-arrow:before {content: \"▾\";}#sk-container-id-5 div.sk-estimator input.sk-toggleable__control:checked~label.sk-toggleable__label {background-color: #d4ebff;}#sk-container-id-5 div.sk-label input.sk-toggleable__control:checked~label.sk-toggleable__label {background-color: #d4ebff;}#sk-container-id-5 input.sk-hidden--visually {border: 0;clip: rect(1px 1px 1px 1px);clip: rect(1px, 1px, 1px, 1px);height: 1px;margin: -1px;overflow: hidden;padding: 0;position: absolute;width: 1px;}#sk-container-id-5 div.sk-estimator {font-family: monospace;background-color: #f0f8ff;border: 1px dotted black;border-radius: 0.25em;box-sizing: border-box;margin-bottom: 0.5em;}#sk-container-id-5 div.sk-estimator:hover {background-color: #d4ebff;}#sk-container-id-5 div.sk-parallel-item::after {content: \"\";width: 100%;border-bottom: 1px solid gray;flex-grow: 1;}#sk-container-id-5 div.sk-label:hover label.sk-toggleable__label {background-color: #d4ebff;}#sk-container-id-5 div.sk-serial::before {content: \"\";position: absolute;border-left: 1px solid gray;box-sizing: border-box;top: 0;bottom: 0;left: 50%;z-index: 0;}#sk-container-id-5 div.sk-serial {display: flex;flex-direction: column;align-items: center;background-color: white;padding-right: 0.2em;padding-left: 0.2em;position: relative;}#sk-container-id-5 div.sk-item {position: relative;z-index: 1;}#sk-container-id-5 div.sk-parallel {display: flex;align-items: stretch;justify-content: center;background-color: white;position: relative;}#sk-container-id-5 div.sk-item::before, #sk-container-id-5 div.sk-parallel-item::before {content: \"\";position: absolute;border-left: 1px solid gray;box-sizing: border-box;top: 0;bottom: 0;left: 50%;z-index: -1;}#sk-container-id-5 div.sk-parallel-item {display: flex;flex-direction: column;z-index: 1;position: relative;background-color: white;}#sk-container-id-5 div.sk-parallel-item:first-child::after {align-self: flex-end;width: 50%;}#sk-container-id-5 div.sk-parallel-item:last-child::after {align-self: flex-start;width: 50%;}#sk-container-id-5 div.sk-parallel-item:only-child::after {width: 0;}#sk-container-id-5 div.sk-dashed-wrapped {border: 1px dashed gray;margin: 0 0.4em 0.5em 0.4em;box-sizing: border-box;padding-bottom: 0.4em;background-color: white;}#sk-container-id-5 div.sk-label label {font-family: monospace;font-weight: bold;display: inline-block;line-height: 1.2em;}#sk-container-id-5 div.sk-label-container {text-align: center;}#sk-container-id-5 div.sk-container {/* jupyter's `normalize.less` sets `[hidden] { display: none; }` but bootstrap.min.css set `[hidden] { display: none !important; }` so we also need the `!important` here to be able to override the default hidden behavior on the sphinx rendered scikit-learn.org. See: https://github.com/scikit-learn/scikit-learn/issues/21755 */display: inline-block !important;position: relative;}#sk-container-id-5 div.sk-text-repr-fallback {display: none;}</style><div id=\"sk-container-id-5\" class=\"sk-top-container\"><div class=\"sk-text-repr-fallback\"><pre>XGBRegressor(base_score=None, booster=None, callbacks=None,\n",
       "             colsample_bylevel=None, colsample_bynode=None,\n",
       "             colsample_bytree=None, device=None, early_stopping_rounds=None,\n",
       "             enable_categorical=False, eval_metric=None, feature_types=None,\n",
       "             gamma=None, grow_policy=None, importance_type=None,\n",
       "             interaction_constraints=None, learning_rate=None, max_bin=None,\n",
       "             max_cat_threshold=None, max_cat_to_onehot=None,\n",
       "             max_delta_step=None, max_depth=10, max_leaves=None,\n",
       "             min_child_weight=None, missing=nan, monotone_constraints=None,\n",
       "             multi_strategy=None, n_estimators=10, n_jobs=None,\n",
       "             num_parallel_tree=None, random_state=None, ...)</pre><b>In a Jupyter environment, please rerun this cell to show the HTML representation or trust the notebook. <br />On GitHub, the HTML representation is unable to render, please try loading this page with nbviewer.org.</b></div><div class=\"sk-container\" hidden><div class=\"sk-item\"><div class=\"sk-estimator sk-toggleable\"><input class=\"sk-toggleable__control sk-hidden--visually\" id=\"sk-estimator-id-5\" type=\"checkbox\" checked><label for=\"sk-estimator-id-5\" class=\"sk-toggleable__label sk-toggleable__label-arrow\">XGBRegressor</label><div class=\"sk-toggleable__content\"><pre>XGBRegressor(base_score=None, booster=None, callbacks=None,\n",
       "             colsample_bylevel=None, colsample_bynode=None,\n",
       "             colsample_bytree=None, device=None, early_stopping_rounds=None,\n",
       "             enable_categorical=False, eval_metric=None, feature_types=None,\n",
       "             gamma=None, grow_policy=None, importance_type=None,\n",
       "             interaction_constraints=None, learning_rate=None, max_bin=None,\n",
       "             max_cat_threshold=None, max_cat_to_onehot=None,\n",
       "             max_delta_step=None, max_depth=10, max_leaves=None,\n",
       "             min_child_weight=None, missing=nan, monotone_constraints=None,\n",
       "             multi_strategy=None, n_estimators=10, n_jobs=None,\n",
       "             num_parallel_tree=None, random_state=None, ...)</pre></div></div></div></div></div>"
      ],
      "text/plain": [
       "XGBRegressor(base_score=None, booster=None, callbacks=None,\n",
       "             colsample_bylevel=None, colsample_bynode=None,\n",
       "             colsample_bytree=None, device=None, early_stopping_rounds=None,\n",
       "             enable_categorical=False, eval_metric=None, feature_types=None,\n",
       "             gamma=None, grow_policy=None, importance_type=None,\n",
       "             interaction_constraints=None, learning_rate=None, max_bin=None,\n",
       "             max_cat_threshold=None, max_cat_to_onehot=None,\n",
       "             max_delta_step=None, max_depth=10, max_leaves=None,\n",
       "             min_child_weight=None, missing=nan, monotone_constraints=None,\n",
       "             multi_strategy=None, n_estimators=10, n_jobs=None,\n",
       "             num_parallel_tree=None, random_state=None, ...)"
      ]
     },
     "execution_count": 65,
     "metadata": {},
     "output_type": "execute_result"
    }
   ],
   "source": [
    "# b_object creation\n",
    "model_4 = xgb.XGBRegressor(\n",
    "    objective='reg:squarederror',\n",
    "    max_depth=10,\n",
    "    n_estimators=10,\n",
    "    seed = 123\n",
    ")\n",
    "\n",
    "# c_ fit/ train the model\n",
    "model_4.fit(X, y)"
   ]
  },
  {
   "cell_type": "code",
   "execution_count": 69,
   "id": "84c9e3c9",
   "metadata": {},
   "outputs": [
    {
     "data": {
      "text/plain": [
       "(281,)"
      ]
     },
     "execution_count": 69,
     "metadata": {},
     "output_type": "execute_result"
    }
   ],
   "source": [
    "# d_ prediction\n",
    "model_4.predict(X_test).shape"
   ]
  },
  {
   "cell_type": "markdown",
   "id": "8ed4fae4",
   "metadata": {},
   "source": [
    "#### e _ Evaluation"
   ]
  },
  {
   "cell_type": "code",
   "execution_count": 70,
   "id": "870cab37",
   "metadata": {},
   "outputs": [],
   "source": [
    "# Evaluation metrics\n",
    "from sklearn.metrics import mean_squared_error, mean_absolute_error, mean_absolute_percentage_error,r2_score"
   ]
  },
  {
   "cell_type": "code",
   "execution_count": 76,
   "id": "7157c0c3",
   "metadata": {},
   "outputs": [
    {
     "name": "stdout",
     "output_type": "stream",
     "text": [
      "MAPE : 0.2595787\n",
      "R2 : 0.657097811437038\n",
      "MSE : 2281309700000.0\n",
      "MAE : 2281309700000.0\n"
     ]
    }
   ],
   "source": [
    "# Evalution (actual-prediction)\n",
    "print(f'MAPE :', mean_absolute_percentage_error(model_4.predict(X_test), y_test))\n",
    "print(f'R2 :', r2_score(model_4.predict(X_test), y_test))\n",
    "print(f'MSE :',mean_squared_error(model_4.predict(X_test), y_test))\n",
    "print(f'MAE :',mean_squared_error(model_4.predict(X_test), y_test))"
   ]
  },
  {
   "cell_type": "markdown",
   "id": "0a2c2cf0",
   "metadata": {},
   "source": [
    "### RMSE Calculation"
   ]
  },
  {
   "cell_type": "code",
   "execution_count": 77,
   "id": "435d1253",
   "metadata": {},
   "outputs": [],
   "source": [
    "pred = model_4.predict(X_test)"
   ]
  },
  {
   "cell_type": "code",
   "execution_count": 79,
   "id": "456d206a",
   "metadata": {},
   "outputs": [],
   "source": [
    "#rmse = np.sqrt(MSE(y_test, pred)) \n",
    "#print(\"RMSE : % f\" %(rmse)) "
   ]
  },
  {
   "cell_type": "code",
   "execution_count": null,
   "id": "b4d6b31f",
   "metadata": {},
   "outputs": [],
   "source": []
  },
  {
   "cell_type": "code",
   "execution_count": null,
   "id": "b820ead6",
   "metadata": {},
   "outputs": [],
   "source": []
  },
  {
   "cell_type": "markdown",
   "id": "aafbcda8",
   "metadata": {},
   "source": [
    "#### Darts Model"
   ]
  },
  {
   "cell_type": "markdown",
   "id": "eccd2ae3",
   "metadata": {},
   "source": [
    "#### Ref"
   ]
  },
  {
   "cell_type": "markdown",
   "id": "cb572cba",
   "metadata": {},
   "source": [
    "1. https://tslearn.readthedocs.io/en/latest/gen_modules/neighbors/tslearn.neighbors.KNeighborsTimeSeriesRegressor.h"
   ]
  },
  {
   "cell_type": "code",
   "execution_count": null,
   "id": "10897c23",
   "metadata": {},
   "outputs": [],
   "source": []
  }
 ],
 "metadata": {
  "kernelspec": {
   "display_name": "Python 3 (ipykernel)",
   "language": "python",
   "name": "python3"
  },
  "language_info": {
   "codemirror_mode": {
    "name": "ipython",
    "version": 3
   },
   "file_extension": ".py",
   "mimetype": "text/x-python",
   "name": "python",
   "nbconvert_exporter": "python",
   "pygments_lexer": "ipython3",
   "version": "3.10.7"
  }
 },
 "nbformat": 4,
 "nbformat_minor": 5
}
