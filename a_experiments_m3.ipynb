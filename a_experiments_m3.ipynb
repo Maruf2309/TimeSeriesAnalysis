{
 "cells": [
  {
   "cell_type": "markdown",
   "id": "1a4caf27",
   "metadata": {},
   "source": [
    "# Model Experiments Phase - TSA 1001"
   ]
  },
  {
   "cell_type": "markdown",
   "id": "f74db021",
   "metadata": {},
   "source": [
    "#### Import Necessary Libraries"
   ]
  },
  {
   "cell_type": "code",
   "execution_count": 1,
   "id": "dbe17bc3",
   "metadata": {},
   "outputs": [],
   "source": [
    "# Basic Libraies\n",
    "import numpy as np\n",
    "import pandas as pd\n",
    "import seaborn as sns\n",
    "\n",
    "import matplotlib.pyplot as plt\n",
    "import warnings as wr\n",
    "wr.filterwarnings('ignore')"
   ]
  },
  {
   "cell_type": "code",
   "execution_count": 3,
   "id": "8267c11e",
   "metadata": {},
   "outputs": [],
   "source": [
    "#!pip install mlflow"
   ]
  },
  {
   "cell_type": "code",
   "execution_count": 4,
   "id": "61f92df9",
   "metadata": {},
   "outputs": [],
   "source": [
    "# !pip install sktime"
   ]
  },
  {
   "cell_type": "markdown",
   "id": "df91db14",
   "metadata": {},
   "source": [
    "#### About Data"
   ]
  },
  {
   "cell_type": "markdown",
   "id": "1fe436cb",
   "metadata": {},
   "source": [
    "1. volume- v4 (best selected features with Ridge & Decesion Tree)- As per session\n",
    "2. volumn-v5 (best selected features with Ridge & Ridge)"
   ]
  },
  {
   "cell_type": "code",
   "execution_count": 2,
   "id": "9a3b2284",
   "metadata": {},
   "outputs": [],
   "source": [
    "data = pd.read_parquet(\"D:/Study/PROJECT-REALTIME/PT-1001/model_output_data/output/sales_bya_v4.parquet\") # I guest data not be requried, need confirmation\n",
    "df = data.copy()"
   ]
  },
  {
   "cell_type": "code",
   "execution_count": 3,
   "id": "4a57b0f8",
   "metadata": {},
   "outputs": [
    {
     "data": {
      "text/html": [
       "<div>\n",
       "<style scoped>\n",
       "    .dataframe tbody tr th:only-of-type {\n",
       "        vertical-align: middle;\n",
       "    }\n",
       "\n",
       "    .dataframe tbody tr th {\n",
       "        vertical-align: top;\n",
       "    }\n",
       "\n",
       "    .dataframe thead th {\n",
       "        text-align: right;\n",
       "    }\n",
       "</style>\n",
       "<table border=\"1\" class=\"dataframe\">\n",
       "  <thead>\n",
       "    <tr style=\"text-align: right;\">\n",
       "      <th></th>\n",
       "      <th>net_price_lag_14</th>\n",
       "      <th>net_price_window_7_std</th>\n",
       "      <th>date_quarter_end</th>\n",
       "      <th>net_price_lag_7</th>\n",
       "      <th>date_year_start</th>\n",
       "      <th>net_price_lag_3</th>\n",
       "      <th>net_price_lag_28</th>\n",
       "      <th>date_month_start</th>\n",
       "      <th>date_year_end</th>\n",
       "      <th>date_quarter_start</th>\n",
       "      <th>date_month_end</th>\n",
       "      <th>date_weekend</th>\n",
       "      <th>net_price</th>\n",
       "      <th>date</th>\n",
       "    </tr>\n",
       "  </thead>\n",
       "  <tbody>\n",
       "    <tr>\n",
       "      <th>0</th>\n",
       "      <td>5.255228e+06</td>\n",
       "      <td>5.136896e+06</td>\n",
       "      <td>0</td>\n",
       "      <td>1.914946e+05</td>\n",
       "      <td>0</td>\n",
       "      <td>2599070.50</td>\n",
       "      <td>26272324.0</td>\n",
       "      <td>0</td>\n",
       "      <td>0</td>\n",
       "      <td>0</td>\n",
       "      <td>0</td>\n",
       "      <td>0</td>\n",
       "      <td>5042942.0</td>\n",
       "      <td>2019-08-08</td>\n",
       "    </tr>\n",
       "    <tr>\n",
       "      <th>1</th>\n",
       "      <td>1.155514e+07</td>\n",
       "      <td>5.042066e+06</td>\n",
       "      <td>0</td>\n",
       "      <td>1.105840e+07</td>\n",
       "      <td>0</td>\n",
       "      <td>4009107.25</td>\n",
       "      <td>15105817.0</td>\n",
       "      <td>0</td>\n",
       "      <td>0</td>\n",
       "      <td>0</td>\n",
       "      <td>0</td>\n",
       "      <td>1</td>\n",
       "      <td>2932270.5</td>\n",
       "      <td>2019-08-10</td>\n",
       "    </tr>\n",
       "    <tr>\n",
       "      <th>2</th>\n",
       "      <td>7.580881e+04</td>\n",
       "      <td>4.480915e+06</td>\n",
       "      <td>0</td>\n",
       "      <td>5.000808e+06</td>\n",
       "      <td>0</td>\n",
       "      <td>4451132.00</td>\n",
       "      <td>5594980.5</td>\n",
       "      <td>0</td>\n",
       "      <td>0</td>\n",
       "      <td>0</td>\n",
       "      <td>0</td>\n",
       "      <td>0</td>\n",
       "      <td>1809937.5</td>\n",
       "      <td>2019-08-12</td>\n",
       "    </tr>\n",
       "    <tr>\n",
       "      <th>3</th>\n",
       "      <td>3.132104e+06</td>\n",
       "      <td>4.958484e+06</td>\n",
       "      <td>0</td>\n",
       "      <td>2.071218e+04</td>\n",
       "      <td>0</td>\n",
       "      <td>5042942.00</td>\n",
       "      <td>9242950.0</td>\n",
       "      <td>0</td>\n",
       "      <td>0</td>\n",
       "      <td>0</td>\n",
       "      <td>0</td>\n",
       "      <td>0</td>\n",
       "      <td>3067519.0</td>\n",
       "      <td>2019-08-13</td>\n",
       "    </tr>\n",
       "    <tr>\n",
       "      <th>4</th>\n",
       "      <td>4.743207e+06</td>\n",
       "      <td>5.091923e+06</td>\n",
       "      <td>0</td>\n",
       "      <td>2.599070e+06</td>\n",
       "      <td>0</td>\n",
       "      <td>2932270.50</td>\n",
       "      <td>9014580.0</td>\n",
       "      <td>0</td>\n",
       "      <td>0</td>\n",
       "      <td>0</td>\n",
       "      <td>0</td>\n",
       "      <td>0</td>\n",
       "      <td>5123492.0</td>\n",
       "      <td>2019-08-14</td>\n",
       "    </tr>\n",
       "  </tbody>\n",
       "</table>\n",
       "</div>"
      ],
      "text/plain": [
       "   net_price_lag_14  net_price_window_7_std  date_quarter_end  \\\n",
       "0      5.255228e+06            5.136896e+06                 0   \n",
       "1      1.155514e+07            5.042066e+06                 0   \n",
       "2      7.580881e+04            4.480915e+06                 0   \n",
       "3      3.132104e+06            4.958484e+06                 0   \n",
       "4      4.743207e+06            5.091923e+06                 0   \n",
       "\n",
       "   net_price_lag_7  date_year_start  net_price_lag_3  net_price_lag_28  \\\n",
       "0     1.914946e+05                0       2599070.50        26272324.0   \n",
       "1     1.105840e+07                0       4009107.25        15105817.0   \n",
       "2     5.000808e+06                0       4451132.00         5594980.5   \n",
       "3     2.071218e+04                0       5042942.00         9242950.0   \n",
       "4     2.599070e+06                0       2932270.50         9014580.0   \n",
       "\n",
       "   date_month_start  date_year_end  date_quarter_start  date_month_end  \\\n",
       "0                 0              0                   0               0   \n",
       "1                 0              0                   0               0   \n",
       "2                 0              0                   0               0   \n",
       "3                 0              0                   0               0   \n",
       "4                 0              0                   0               0   \n",
       "\n",
       "   date_weekend  net_price       date  \n",
       "0             0  5042942.0 2019-08-08  \n",
       "1             1  2932270.5 2019-08-10  \n",
       "2             0  1809937.5 2019-08-12  \n",
       "3             0  3067519.0 2019-08-13  \n",
       "4             0  5123492.0 2019-08-14  "
      ]
     },
     "execution_count": 3,
     "metadata": {},
     "output_type": "execute_result"
    }
   ],
   "source": [
    "df.head()"
   ]
  },
  {
   "cell_type": "code",
   "execution_count": 4,
   "id": "536d9aaa",
   "metadata": {},
   "outputs": [
    {
     "data": {
      "text/plain": [
       "(1121, 14)"
      ]
     },
     "execution_count": 4,
     "metadata": {},
     "output_type": "execute_result"
    }
   ],
   "source": [
    "df.shape"
   ]
  },
  {
   "cell_type": "markdown",
   "id": "861db8df",
   "metadata": {},
   "source": [
    "#### Loading Folds"
   ]
  },
  {
   "cell_type": "code",
   "execution_count": 5,
   "id": "4fad00ce",
   "metadata": {},
   "outputs": [
    {
     "data": {
      "text/plain": [
       "['train_0', 'test_0', 'train_1', 'test_1', 'train_2', 'test_2']"
      ]
     },
     "execution_count": 5,
     "metadata": {},
     "output_type": "execute_result"
    }
   ],
   "source": [
    "folds = np.load(\"D:/Study/PROJECT-REALTIME/PT-1001/model_output_data/output/folds_v2.npz\")\n",
    "folds.files"
   ]
  },
  {
   "cell_type": "code",
   "execution_count": 6,
   "id": "938af852",
   "metadata": {},
   "outputs": [],
   "source": [
    "# Access Folds\n",
    "train = df.loc[folds['train_2']]\n",
    "test = df.loc[folds['test_2']]"
   ]
  },
  {
   "cell_type": "code",
   "execution_count": 7,
   "id": "4ddfbacd",
   "metadata": {},
   "outputs": [
    {
     "data": {
      "text/plain": [
       "(841, 14)"
      ]
     },
     "execution_count": 7,
     "metadata": {},
     "output_type": "execute_result"
    }
   ],
   "source": [
    "train.shape"
   ]
  },
  {
   "cell_type": "code",
   "execution_count": 8,
   "id": "526b75be",
   "metadata": {},
   "outputs": [
    {
     "data": {
      "text/plain": [
       "(280, 14)"
      ]
     },
     "execution_count": 8,
     "metadata": {},
     "output_type": "execute_result"
    }
   ],
   "source": [
    "test.shape"
   ]
  },
  {
   "cell_type": "code",
   "execution_count": 9,
   "id": "cb006f89",
   "metadata": {},
   "outputs": [
    {
     "data": {
      "text/plain": [
       "1121"
      ]
     },
     "execution_count": 9,
     "metadata": {},
     "output_type": "execute_result"
    }
   ],
   "source": [
    "841+280 # verified"
   ]
  },
  {
   "cell_type": "code",
   "execution_count": 10,
   "id": "92b5d91e",
   "metadata": {},
   "outputs": [
    {
     "data": {
      "text/plain": [
       "0.7502230151650312"
      ]
     },
     "execution_count": 10,
     "metadata": {},
     "output_type": "execute_result"
    }
   ],
   "source": [
    "841/1121"
   ]
  },
  {
   "cell_type": "code",
   "execution_count": 11,
   "id": "e382fd4b",
   "metadata": {},
   "outputs": [],
   "source": [
    "# Training Set\n",
    "X = train.drop(columns=['date','net_price'])\n",
    "y = train['net_price']"
   ]
  },
  {
   "cell_type": "code",
   "execution_count": 12,
   "id": "b3946645",
   "metadata": {},
   "outputs": [],
   "source": [
    "# Test Set\n",
    "Xt = test.drop(columns=['date','net_price'])\n",
    "yt = test['net_price']"
   ]
  },
  {
   "cell_type": "markdown",
   "id": "2699f150",
   "metadata": {},
   "source": [
    "- We will train on train data & test on test set(280 data points)\n",
    "- Still we are doing this on a single folder i.g (train_2, test_2)"
   ]
  },
  {
   "cell_type": "code",
   "execution_count": 13,
   "id": "9324e5cb",
   "metadata": {},
   "outputs": [
    {
     "name": "stdout",
     "output_type": "stream",
     "text": [
      "(841, 12)\n",
      "(841,)\n",
      "(280, 12)\n",
      "(280,)\n"
     ]
    }
   ],
   "source": [
    "# Check the whether the lenge of data is same for both train & test set\n",
    "print(X.shape)\n",
    "print(y.shape)\n",
    "print(Xt.shape)\n",
    "print(yt.shape)"
   ]
  },
  {
   "cell_type": "code",
   "execution_count": null,
   "id": "9b0f212b",
   "metadata": {},
   "outputs": [],
   "source": []
  },
  {
   "cell_type": "code",
   "execution_count": null,
   "id": "38647152",
   "metadata": {},
   "outputs": [],
   "source": []
  },
  {
   "cell_type": "code",
   "execution_count": null,
   "id": "8a70bbf9",
   "metadata": {},
   "outputs": [],
   "source": []
  },
  {
   "cell_type": "markdown",
   "id": "fb15e6fc",
   "metadata": {},
   "source": [
    "#### Required Libraries with Mlflow ( Prerequisit for Modeling)"
   ]
  },
  {
   "cell_type": "code",
   "execution_count": 30,
   "id": "11683ef7",
   "metadata": {},
   "outputs": [],
   "source": [
    "import mlflow\n",
    "from sklearn.neighbors import KNeighborsRegressor                    # required for model i.g 3.1\n",
    "from sklearn.metrics import r2_score, mean_absolute_percentage_error  # required for evaluation i.g 3.1\n",
    "# mlflow.create_experiment('Net Price Forecasting')    # this is one time, return a unique ID / hash ID"
   ]
  },
  {
   "cell_type": "markdown",
   "id": "96d93b76",
   "metadata": {},
   "source": [
    "<center><h1> Experiments </center></h1>"
   ]
  },
  {
   "cell_type": "markdown",
   "id": "ccd2e963",
   "metadata": {},
   "source": [
    "##### Test Model 1: KNeighbors TimeSeries Regressor"
   ]
  },
  {
   "cell_type": "code",
   "execution_count": 17,
   "id": "28001fa9",
   "metadata": {},
   "outputs": [
    {
     "data": {
      "text/plain": [
       "\"# import library\\nfrom sktime.regression.distance_based import KNeighborsTimeSeriesRegressor\\n\\n# modeling\\nknn = KNeighborsTimeSeriesRegressor(\\n    n_neighbors=5, weights='uniform', algorithm='brute',\\n    distance='dtw', distance_params=None,\\n    distance_mtype=None, leaf_size=30, n_jobs=None)\\n\\n# fit the model\\nknn.fit(X,y)\""
      ]
     },
     "execution_count": 17,
     "metadata": {},
     "output_type": "execute_result"
    }
   ],
   "source": [
    "'''# import library\n",
    "from sktime.regression.distance_based import KNeighborsTimeSeriesRegressor\n",
    "\n",
    "# modeling\n",
    "knn = KNeighborsTimeSeriesRegressor(\n",
    "    n_neighbors=5, weights='uniform', algorithm='brute',\n",
    "    distance='dtw', distance_params=None, "
   ]
  },
  {
   "cell_type": "markdown",
   "id": "30f2a81c",
   "metadata": {},
   "source": [
    "##### Test Model 2: Ridge Regression"
   ]
  },
  {
   "cell_type": "code",
   "execution_count": 19,
   "id": "d9255da8",
   "metadata": {},
   "outputs": [
    {
     "data": {
      "text/html": [
       "<style>#sk-container-id-1 {color: black;background-color: white;}#sk-container-id-1 pre{padding: 0;}#sk-container-id-1 div.sk-toggleable {background-color: white;}#sk-container-id-1 label.sk-toggleable__label {cursor: pointer;display: block;width: 100%;margin-bottom: 0;padding: 0.3em;box-sizing: border-box;text-align: center;}#sk-container-id-1 label.sk-toggleable__label-arrow:before {content: \"▸\";float: left;margin-right: 0.25em;color: #696969;}#sk-container-id-1 label.sk-toggleable__label-arrow:hover:before {color: black;}#sk-container-id-1 div.sk-estimator:hover label.sk-toggleable__label-arrow:before {color: black;}#sk-container-id-1 div.sk-toggleable__content {max-height: 0;max-width: 0;overflow: hidden;text-align: left;background-color: #f0f8ff;}#sk-container-id-1 div.sk-toggleable__content pre {margin: 0.2em;color: black;border-radius: 0.25em;background-color: #f0f8ff;}#sk-container-id-1 input.sk-toggleable__control:checked~div.sk-toggleable__content {max-height: 200px;max-width: 100%;overflow: auto;}#sk-container-id-1 input.sk-toggleable__control:checked~label.sk-toggleable__label-arrow:before {content: \"▾\";}#sk-container-id-1 div.sk-estimator input.sk-toggleable__control:checked~label.sk-toggleable__label {background-color: #d4ebff;}#sk-container-id-1 div.sk-label input.sk-toggleable__control:checked~label.sk-toggleable__label {background-color: #d4ebff;}#sk-container-id-1 input.sk-hidden--visually {border: 0;clip: rect(1px 1px 1px 1px);clip: rect(1px, 1px, 1px, 1px);height: 1px;margin: -1px;overflow: hidden;padding: 0;position: absolute;width: 1px;}#sk-container-id-1 div.sk-estimator {font-family: monospace;background-color: #f0f8ff;border: 1px dotted black;border-radius: 0.25em;box-sizing: border-box;margin-bottom: 0.5em;}#sk-container-id-1 div.sk-estimator:hover {background-color: #d4ebff;}#sk-container-id-1 div.sk-parallel-item::after {content: \"\";width: 100%;border-bottom: 1px solid gray;flex-grow: 1;}#sk-container-id-1 div.sk-label:hover label.sk-toggleable__label {background-color: #d4ebff;}#sk-container-id-1 div.sk-serial::before {content: \"\";position: absolute;border-left: 1px solid gray;box-sizing: border-box;top: 0;bottom: 0;left: 50%;z-index: 0;}#sk-container-id-1 div.sk-serial {display: flex;flex-direction: column;align-items: center;background-color: white;padding-right: 0.2em;padding-left: 0.2em;position: relative;}#sk-container-id-1 div.sk-item {position: relative;z-index: 1;}#sk-container-id-1 div.sk-parallel {display: flex;align-items: stretch;justify-content: center;background-color: white;position: relative;}#sk-container-id-1 div.sk-item::before, #sk-container-id-1 div.sk-parallel-item::before {content: \"\";position: absolute;border-left: 1px solid gray;box-sizing: border-box;top: 0;bottom: 0;left: 50%;z-index: -1;}#sk-container-id-1 div.sk-parallel-item {display: flex;flex-direction: column;z-index: 1;position: relative;background-color: white;}#sk-container-id-1 div.sk-parallel-item:first-child::after {align-self: flex-end;width: 50%;}#sk-container-id-1 div.sk-parallel-item:last-child::after {align-self: flex-start;width: 50%;}#sk-container-id-1 div.sk-parallel-item:only-child::after {width: 0;}#sk-container-id-1 div.sk-dashed-wrapped {border: 1px dashed gray;margin: 0 0.4em 0.5em 0.4em;box-sizing: border-box;padding-bottom: 0.4em;background-color: white;}#sk-container-id-1 div.sk-label label {font-family: monospace;font-weight: bold;display: inline-block;line-height: 1.2em;}#sk-container-id-1 div.sk-label-container {text-align: center;}#sk-container-id-1 div.sk-container {/* jupyter's `normalize.less` sets `[hidden] { display: none; }` but bootstrap.min.css set `[hidden] { display: none !important; }` so we also need the `!important` here to be able to override the default hidden behavior on the sphinx rendered scikit-learn.org. See: https://github.com/scikit-learn/scikit-learn/issues/21755 */display: inline-block !important;position: relative;}#sk-container-id-1 div.sk-text-repr-fallback {display: none;}</style><div id=\"sk-container-id-1\" class=\"sk-top-container\"><div class=\"sk-text-repr-fallback\"><pre>Ridge(random_state=42)</pre><b>In a Jupyter environment, please rerun this cell to show the HTML representation or trust the notebook. <br />On GitHub, the HTML representation is unable to render, please try loading this page with nbviewer.org.</b></div><div class=\"sk-container\" hidden><div class=\"sk-item\"><div class=\"sk-estimator sk-toggleable\"><input class=\"sk-toggleable__control sk-hidden--visually\" id=\"sk-estimator-id-1\" type=\"checkbox\" checked><label for=\"sk-estimator-id-1\" class=\"sk-toggleable__label sk-toggleable__label-arrow\">Ridge</label><div class=\"sk-toggleable__content\"><pre>Ridge(random_state=42)</pre></div></div></div></div></div>"
      ],
      "text/plain": [
       "Ridge(random_state=42)"
      ]
     },
     "execution_count": 19,
     "metadata": {},
     "output_type": "execute_result"
    }
   ],
   "source": [
    "# import library\n",
    "from sklearn.linear_model import Ridge\n",
    "\n",
    "# Modeling \n",
    "model= Ridge(\n",
    "    alpha=1.0, fit_intercept=True, copy_X=True, max_iter=None,\n",
    "    tol=0.0001, solver='auto', positive=False, random_state=42,\n",
    ")\n",
    "\n",
    "# Fit the model\n",
    "model.fit(X,y)"
   ]
  },
  {
   "cell_type": "markdown",
   "id": "c7051f46",
   "metadata": {},
   "source": [
    "##### Test Model 3: KNeighbors Regressor - without Mlflow"
   ]
  },
  {
   "cell_type": "code",
   "execution_count": 14,
   "id": "944090df",
   "metadata": {},
   "outputs": [
    {
     "data": {
      "text/html": [
       "<style>#sk-container-id-1 {color: black;background-color: white;}#sk-container-id-1 pre{padding: 0;}#sk-container-id-1 div.sk-toggleable {background-color: white;}#sk-container-id-1 label.sk-toggleable__label {cursor: pointer;display: block;width: 100%;margin-bottom: 0;padding: 0.3em;box-sizing: border-box;text-align: center;}#sk-container-id-1 label.sk-toggleable__label-arrow:before {content: \"▸\";float: left;margin-right: 0.25em;color: #696969;}#sk-container-id-1 label.sk-toggleable__label-arrow:hover:before {color: black;}#sk-container-id-1 div.sk-estimator:hover label.sk-toggleable__label-arrow:before {color: black;}#sk-container-id-1 div.sk-toggleable__content {max-height: 0;max-width: 0;overflow: hidden;text-align: left;background-color: #f0f8ff;}#sk-container-id-1 div.sk-toggleable__content pre {margin: 0.2em;color: black;border-radius: 0.25em;background-color: #f0f8ff;}#sk-container-id-1 input.sk-toggleable__control:checked~div.sk-toggleable__content {max-height: 200px;max-width: 100%;overflow: auto;}#sk-container-id-1 input.sk-toggleable__control:checked~label.sk-toggleable__label-arrow:before {content: \"▾\";}#sk-container-id-1 div.sk-estimator input.sk-toggleable__control:checked~label.sk-toggleable__label {background-color: #d4ebff;}#sk-container-id-1 div.sk-label input.sk-toggleable__control:checked~label.sk-toggleable__label {background-color: #d4ebff;}#sk-container-id-1 input.sk-hidden--visually {border: 0;clip: rect(1px 1px 1px 1px);clip: rect(1px, 1px, 1px, 1px);height: 1px;margin: -1px;overflow: hidden;padding: 0;position: absolute;width: 1px;}#sk-container-id-1 div.sk-estimator {font-family: monospace;background-color: #f0f8ff;border: 1px dotted black;border-radius: 0.25em;box-sizing: border-box;margin-bottom: 0.5em;}#sk-container-id-1 div.sk-estimator:hover {background-color: #d4ebff;}#sk-container-id-1 div.sk-parallel-item::after {content: \"\";width: 100%;border-bottom: 1px solid gray;flex-grow: 1;}#sk-container-id-1 div.sk-label:hover label.sk-toggleable__label {background-color: #d4ebff;}#sk-container-id-1 div.sk-serial::before {content: \"\";position: absolute;border-left: 1px solid gray;box-sizing: border-box;top: 0;bottom: 0;left: 50%;z-index: 0;}#sk-container-id-1 div.sk-serial {display: flex;flex-direction: column;align-items: center;background-color: white;padding-right: 0.2em;padding-left: 0.2em;position: relative;}#sk-container-id-1 div.sk-item {position: relative;z-index: 1;}#sk-container-id-1 div.sk-parallel {display: flex;align-items: stretch;justify-content: center;background-color: white;position: relative;}#sk-container-id-1 div.sk-item::before, #sk-container-id-1 div.sk-parallel-item::before {content: \"\";position: absolute;border-left: 1px solid gray;box-sizing: border-box;top: 0;bottom: 0;left: 50%;z-index: -1;}#sk-container-id-1 div.sk-parallel-item {display: flex;flex-direction: column;z-index: 1;position: relative;background-color: white;}#sk-container-id-1 div.sk-parallel-item:first-child::after {align-self: flex-end;width: 50%;}#sk-container-id-1 div.sk-parallel-item:last-child::after {align-self: flex-start;width: 50%;}#sk-container-id-1 div.sk-parallel-item:only-child::after {width: 0;}#sk-container-id-1 div.sk-dashed-wrapped {border: 1px dashed gray;margin: 0 0.4em 0.5em 0.4em;box-sizing: border-box;padding-bottom: 0.4em;background-color: white;}#sk-container-id-1 div.sk-label label {font-family: monospace;font-weight: bold;display: inline-block;line-height: 1.2em;}#sk-container-id-1 div.sk-label-container {text-align: center;}#sk-container-id-1 div.sk-container {/* jupyter's `normalize.less` sets `[hidden] { display: none; }` but bootstrap.min.css set `[hidden] { display: none !important; }` so we also need the `!important` here to be able to override the default hidden behavior on the sphinx rendered scikit-learn.org. See: https://github.com/scikit-learn/scikit-learn/issues/21755 */display: inline-block !important;position: relative;}#sk-container-id-1 div.sk-text-repr-fallback {display: none;}</style><div id=\"sk-container-id-1\" class=\"sk-top-container\"><div class=\"sk-text-repr-fallback\"><pre>KNeighborsRegressor(metric=&#x27;euclidean&#x27;)</pre><b>In a Jupyter environment, please rerun this cell to show the HTML representation or trust the notebook. <br />On GitHub, the HTML representation is unable to render, please try loading this page with nbviewer.org.</b></div><div class=\"sk-container\" hidden><div class=\"sk-item\"><div class=\"sk-estimator sk-toggleable\"><input class=\"sk-toggleable__control sk-hidden--visually\" id=\"sk-estimator-id-1\" type=\"checkbox\" checked><label for=\"sk-estimator-id-1\" class=\"sk-toggleable__label sk-toggleable__label-arrow\">KNeighborsRegressor</label><div class=\"sk-toggleable__content\"><pre>KNeighborsRegressor(metric=&#x27;euclidean&#x27;)</pre></div></div></div></div></div>"
      ],
      "text/plain": [
       "KNeighborsRegressor(metric='euclidean')"
      ]
     },
     "execution_count": 14,
     "metadata": {},
     "output_type": "execute_result"
    }
   ],
   "source": [
    "# import library\n",
    "from sklearn.neighbors import KNeighborsRegressor\n",
    "\n",
    "# Modeling \n",
    "model= KNeighborsRegressor(n_neighbors=5, weights='uniform', metric='euclidean')\n",
    "\n",
    "# Fit the model\n",
    "model.fit(X,y)"
   ]
  },
  {
   "cell_type": "markdown",
   "id": "da8cdd59",
   "metadata": {},
   "source": [
    "#### Checking Shape- Error Fixation"
   ]
  },
  {
   "cell_type": "code",
   "execution_count": 20,
   "id": "0dc2e904",
   "metadata": {},
   "outputs": [
    {
     "data": {
      "text/plain": [
       "(280, 12)"
      ]
     },
     "execution_count": 20,
     "metadata": {},
     "output_type": "execute_result"
    }
   ],
   "source": [
    "Xt.shape"
   ]
  },
  {
   "cell_type": "code",
   "execution_count": 21,
   "id": "06011172",
   "metadata": {},
   "outputs": [
    {
     "data": {
      "text/plain": [
       "(280,)"
      ]
     },
     "execution_count": 21,
     "metadata": {},
     "output_type": "execute_result"
    }
   ],
   "source": [
    "yt.shape # not matched"
   ]
  },
  {
   "cell_type": "markdown",
   "id": "03061b77",
   "metadata": {},
   "source": [
    "##### Test Model 3.1: KNeighbors Regressor  with mflow"
   ]
  },
  {
   "cell_type": "code",
   "execution_count": 18,
   "id": "4eb76069",
   "metadata": {},
   "outputs": [],
   "source": [
    "\n",
    "mlflow.set_experiment('Net Price Forecasting')      # it will log hash executed for 'Net Price forecasting'\n",
    "with mlflow.start_run():                            # it will create a session with mlflow\n",
    "    model= KNeighborsRegressor(n_neighbors=7, weights='distance', metric='euclidean')\n",
    "    model.fit(X,y)                                 # train the model on train data\n",
    "    \n",
    "    ### log params\n",
    "    mlflow.log_params(dict(n_neighbors=7, weights='distance', metric='euclidean'))\n",
    "    \n",
    "    ### log metrics\n",
    "    mlflow.log_metrics(\n",
    "        {\n",
    "            'r2': r2_score(model.predict(Xt), yt),  # it will cal r2_score on test data, Xt:prediction, yt: actual\n",
    "            'mse': mean_absolute_percentage_error(model.predict(Xt), yt)\n",
    "        }\n",
    "    )\n",
    "    \n",
    "    ### log model   \n",
    "\n",
    "\n",
    "\n",
    "###\n",
    "# it will log params, metrics, model for every iteration / run"
   ]
  },
  {
   "cell_type": "markdown",
   "id": "763bcd7d",
   "metadata": {},
   "source": [
    "##### Test Model 4.1: Ridge with Mlflow"
   ]
  },
  {
   "cell_type": "code",
   "execution_count": 21,
   "id": "80ef206c",
   "metadata": {},
   "outputs": [],
   "source": [
    "from sklearn.linear_model import Ridge"
   ]
  },
  {
   "cell_type": "code",
   "execution_count": 20,
   "id": "80ebe995",
   "metadata": {},
   "outputs": [
    {
     "data": {
      "text/plain": [
       "'433896854597316750'"
      ]
     },
     "execution_count": 20,
     "metadata": {},
     "output_type": "execute_result"
    }
   ],
   "source": [
    "mlflow.create_experiment('Net Price Forecasting_Ridge_4.1')"
   ]
  },
  {
   "cell_type": "code",
   "execution_count": 24,
   "id": "4fb4deb7",
   "metadata": {},
   "outputs": [],
   "source": [
    "\n",
    "mlflow.set_experiment('Net Price Forecasting_Ridge_4.1')      \n",
    "with mlflow.start_run(): \n",
    "    model2 = Ridge(\n",
    "    alpha=1.0, fit_intercept=True, copy_X=True, max_iter=1000,\n",
    "    tol=0.0001, solver='auto', positive=False, random_state=42,\n",
    "    )\n",
    "    \n",
    "    model2.fit(X,y)                                 # train the model on train data\n",
    "    \n",
    "    ### log params\n",
    "    mlflow.log_params(dict(alpha=1.0, fit_intercept=True, copy_X=True, max_iter=1000,\n",
    "    tol=0.0001, solver='auto', positive=False, random_state=42))\n",
    "    \n",
    "    ### log metrics\n",
    "    mlflow.log_metrics(\n",
    "        {\n",
    "            'r2': r2_score(model2.predict(Xt), yt),  # it will cal r2_score on test data, Xt:prediction, yt: actual\n",
    "            'mse': mean_absolute_percentage_error(model2.predict(Xt), yt)\n",
    "        }\n",
    "    )\n",
    "    \n",
    "    ### log model "
   ]
  },
  {
   "cell_type": "code",
   "execution_count": null,
   "id": "dd648df5",
   "metadata": {},
   "outputs": [],
   "source": []
  },
  {
   "cell_type": "markdown",
   "id": "f6216373",
   "metadata": {},
   "source": [
    "## 5.0 Deicions Tree"
   ]
  },
  {
   "cell_type": "markdown",
   "id": "92a47459",
   "metadata": {},
   "source": [
    "#### 5.1 Decision Tree - Basic"
   ]
  },
  {
   "cell_type": "code",
   "execution_count": 36,
   "id": "907b28c8",
   "metadata": {},
   "outputs": [],
   "source": [
    "# Evaluation metrics\n",
    "from sklearn.metrics import mean_squared_error, mean_absolute_error"
   ]
  },
  {
   "cell_type": "code",
   "execution_count": 58,
   "id": "b65da074",
   "metadata": {},
   "outputs": [
    {
     "data": {
      "text/html": [
       "<style>#sk-container-id-4 {color: black;background-color: white;}#sk-container-id-4 pre{padding: 0;}#sk-container-id-4 div.sk-toggleable {background-color: white;}#sk-container-id-4 label.sk-toggleable__label {cursor: pointer;display: block;width: 100%;margin-bottom: 0;padding: 0.3em;box-sizing: border-box;text-align: center;}#sk-container-id-4 label.sk-toggleable__label-arrow:before {content: \"▸\";float: left;margin-right: 0.25em;color: #696969;}#sk-container-id-4 label.sk-toggleable__label-arrow:hover:before {color: black;}#sk-container-id-4 div.sk-estimator:hover label.sk-toggleable__label-arrow:before {color: black;}#sk-container-id-4 div.sk-toggleable__content {max-height: 0;max-width: 0;overflow: hidden;text-align: left;background-color: #f0f8ff;}#sk-container-id-4 div.sk-toggleable__content pre {margin: 0.2em;color: black;border-radius: 0.25em;background-color: #f0f8ff;}#sk-container-id-4 input.sk-toggleable__control:checked~div.sk-toggleable__content {max-height: 200px;max-width: 100%;overflow: auto;}#sk-container-id-4 input.sk-toggleable__control:checked~label.sk-toggleable__label-arrow:before {content: \"▾\";}#sk-container-id-4 div.sk-estimator input.sk-toggleable__control:checked~label.sk-toggleable__label {background-color: #d4ebff;}#sk-container-id-4 div.sk-label input.sk-toggleable__control:checked~label.sk-toggleable__label {background-color: #d4ebff;}#sk-container-id-4 input.sk-hidden--visually {border: 0;clip: rect(1px 1px 1px 1px);clip: rect(1px, 1px, 1px, 1px);height: 1px;margin: -1px;overflow: hidden;padding: 0;position: absolute;width: 1px;}#sk-container-id-4 div.sk-estimator {font-family: monospace;background-color: #f0f8ff;border: 1px dotted black;border-radius: 0.25em;box-sizing: border-box;margin-bottom: 0.5em;}#sk-container-id-4 div.sk-estimator:hover {background-color: #d4ebff;}#sk-container-id-4 div.sk-parallel-item::after {content: \"\";width: 100%;border-bottom: 1px solid gray;flex-grow: 1;}#sk-container-id-4 div.sk-label:hover label.sk-toggleable__label {background-color: #d4ebff;}#sk-container-id-4 div.sk-serial::before {content: \"\";position: absolute;border-left: 1px solid gray;box-sizing: border-box;top: 0;bottom: 0;left: 50%;z-index: 0;}#sk-container-id-4 div.sk-serial {display: flex;flex-direction: column;align-items: center;background-color: white;padding-right: 0.2em;padding-left: 0.2em;position: relative;}#sk-container-id-4 div.sk-item {position: relative;z-index: 1;}#sk-container-id-4 div.sk-parallel {display: flex;align-items: stretch;justify-content: center;background-color: white;position: relative;}#sk-container-id-4 div.sk-item::before, #sk-container-id-4 div.sk-parallel-item::before {content: \"\";position: absolute;border-left: 1px solid gray;box-sizing: border-box;top: 0;bottom: 0;left: 50%;z-index: -1;}#sk-container-id-4 div.sk-parallel-item {display: flex;flex-direction: column;z-index: 1;position: relative;background-color: white;}#sk-container-id-4 div.sk-parallel-item:first-child::after {align-self: flex-end;width: 50%;}#sk-container-id-4 div.sk-parallel-item:last-child::after {align-self: flex-start;width: 50%;}#sk-container-id-4 div.sk-parallel-item:only-child::after {width: 0;}#sk-container-id-4 div.sk-dashed-wrapped {border: 1px dashed gray;margin: 0 0.4em 0.5em 0.4em;box-sizing: border-box;padding-bottom: 0.4em;background-color: white;}#sk-container-id-4 div.sk-label label {font-family: monospace;font-weight: bold;display: inline-block;line-height: 1.2em;}#sk-container-id-4 div.sk-label-container {text-align: center;}#sk-container-id-4 div.sk-container {/* jupyter's `normalize.less` sets `[hidden] { display: none; }` but bootstrap.min.css set `[hidden] { display: none !important; }` so we also need the `!important` here to be able to override the default hidden behavior on the sphinx rendered scikit-learn.org. See: https://github.com/scikit-learn/scikit-learn/issues/21755 */display: inline-block !important;position: relative;}#sk-container-id-4 div.sk-text-repr-fallback {display: none;}</style><div id=\"sk-container-id-4\" class=\"sk-top-container\"><div class=\"sk-text-repr-fallback\"><pre>DecisionTreeRegressor(min_samples_leaf=2)</pre><b>In a Jupyter environment, please rerun this cell to show the HTML representation or trust the notebook. <br />On GitHub, the HTML representation is unable to render, please try loading this page with nbviewer.org.</b></div><div class=\"sk-container\" hidden><div class=\"sk-item\"><div class=\"sk-estimator sk-toggleable\"><input class=\"sk-toggleable__control sk-hidden--visually\" id=\"sk-estimator-id-4\" type=\"checkbox\" checked><label for=\"sk-estimator-id-4\" class=\"sk-toggleable__label sk-toggleable__label-arrow\">DecisionTreeRegressor</label><div class=\"sk-toggleable__content\"><pre>DecisionTreeRegressor(min_samples_leaf=2)</pre></div></div></div></div></div>"
      ],
      "text/plain": [
       "DecisionTreeRegressor(min_samples_leaf=2)"
      ]
     },
     "execution_count": 58,
     "metadata": {},
     "output_type": "execute_result"
    }
   ],
   "source": [
    "# import library\n",
    "from sklearn.tree import DecisionTreeRegressor\n",
    "\n",
    "# Modeling\n",
    "model = DecisionTreeRegressor(\n",
    "    criterion='squared_error', splitter='best',\n",
    "    max_depth=None, min_samples_split=2, min_samples_leaf=2,\n",
    "    min_weight_fraction_leaf=0.0, max_features=None, random_state=None,\n",
    "    max_leaf_nodes=None, min_impurity_decrease=0.0, ccp_alpha=0.0)\n",
    "\n",
    "# fit  the model\n",
    "model.fit(X, y)"
   ]
  },
  {
   "cell_type": "code",
   "execution_count": 27,
   "id": "a03ec75b",
   "metadata": {},
   "outputs": [
    {
     "data": {
      "text/plain": [
       "array([7.12844375e+06, 4.47389675e+06, 1.16659205e+07, 2.54786706e+06,\n",
       "       1.25810020e+07, 6.25024512e+06, 8.06907900e+06, 3.30533050e+06,\n",
       "       3.25071638e+06, 3.29214375e+04, 9.37199950e+06, 4.11781212e+06,\n",
       "       7.56782475e+06, 7.16074317e+06, 2.92954950e+06, 4.90515650e+06,\n",
       "       5.26959250e+06, 4.28459925e+06, 9.48330382e+05, 5.96160233e+06,\n",
       "       6.35626667e+06, 1.61682410e+07, 7.14422675e+06, 1.20859907e+06,\n",
       "       3.07788075e+06, 9.07934900e+06, 5.72585850e+06, 5.11783650e+06,\n",
       "       8.06907900e+06, 4.23794708e+06, 1.16659205e+07, 5.33616567e+06,\n",
       "       5.77189925e+06, 5.55189375e+06, 8.06907900e+06, 3.25071638e+06,\n",
       "       5.86183325e+06, 3.92281350e+06, 5.88077667e+06, 3.79034775e+06,\n",
       "       3.92281350e+06, 7.79414383e+06, 7.79414383e+06, 3.14692600e+06,\n",
       "       3.92281350e+06, 7.42620417e+06, 4.55669283e+06, 3.16227638e+06,\n",
       "       6.35626667e+06, 2.21833920e+07, 4.93383175e+06, 5.49684050e+06,\n",
       "       3.46274175e+06, 3.07788075e+06, 5.96261400e+06, 3.26529500e+06,\n",
       "       7.16074317e+06, 7.42620417e+06, 3.69104012e+06, 4.33102217e+06,\n",
       "       5.49684050e+06, 1.01662550e+07, 1.01662550e+07, 1.01662550e+07,\n",
       "       2.66774762e+06, 5.99671075e+06, 7.30356225e+06, 3.09535567e+06,\n",
       "       4.70168625e+06, 4.70168625e+06, 2.36823842e+06, 5.26959250e+06,\n",
       "       1.60903184e+04, 6.18455700e+06, 7.16074317e+06, 1.07413715e+07,\n",
       "       2.36823842e+06, 3.69104012e+06, 2.25013888e+06, 4.74419400e+06,\n",
       "       4.55669283e+06, 7.16074317e+06, 7.11095879e+04, 3.74625488e+06,\n",
       "       6.14992000e+06, 8.48935350e+06, 5.86183325e+06, 1.01662550e+07,\n",
       "       5.49684050e+06, 2.54786706e+06, 2.41374450e+06, 2.87876646e+06,\n",
       "       1.01662550e+07, 2.66774762e+06, 3.16942325e+06, 2.89411638e+06,\n",
       "       4.65197575e+06, 7.74504900e+06, 6.35626667e+06, 1.81009515e+07,\n",
       "       2.35358100e+06, 3.55925138e+06, 9.37199950e+06, 5.11783650e+06,\n",
       "       1.21737350e+07, 7.74504900e+06, 5.34322967e+06, 1.70952162e+06,\n",
       "       1.54172301e+04, 1.21737350e+07, 2.11606969e+06, 3.64157442e+06,\n",
       "       3.03643858e+06, 4.76796450e+06, 5.49684050e+06, 4.20307912e+06,\n",
       "       4.11781212e+06, 5.34322967e+06, 4.70168625e+06, 4.28780175e+06,\n",
       "       2.71743183e+06, 9.72738672e+04, 1.60903184e+04, 6.35626667e+06,\n",
       "       2.21833920e+07, 7.16074317e+06, 2.36823842e+06, 1.21737350e+07,\n",
       "       8.53323789e+04, 4.80909175e+06, 9.32664550e+06, 2.92954950e+06,\n",
       "       1.01662550e+07, 3.74625488e+06, 6.14992000e+06, 3.80679317e+06,\n",
       "       2.11606969e+06, 4.29798675e+06, 4.70168625e+06, 7.11095879e+04,\n",
       "       1.13377880e+07, 4.65197575e+06, 1.98107456e+06, 5.55189375e+06,\n",
       "       9.81222300e+06, 2.87271425e+06, 2.41374450e+06, 1.34126235e+07,\n",
       "       4.33102217e+06, 5.49684050e+06, 3.13253975e+06, 3.55925138e+06,\n",
       "       3.09535567e+06, 1.70952162e+06, 4.25195888e+06, 9.07934900e+06,\n",
       "       1.98107456e+06, 1.54172301e+04, 3.80679317e+06, 6.16855117e+06,\n",
       "       7.11095879e+04, 9.07934900e+06, 4.04909150e+06, 6.34840425e+06,\n",
       "       1.70952162e+06, 2.92954950e+06, 7.39050367e+06, 2.11453409e+05,\n",
       "       1.01662550e+07, 1.13377880e+07, 4.93202150e+06, 6.35626667e+06,\n",
       "       1.30450640e+07, 2.36823842e+06, 6.16855117e+06, 8.53323789e+04,\n",
       "       8.53323789e+04, 4.28780175e+06, 8.48935350e+06, 6.25024512e+06,\n",
       "       1.16659205e+07, 4.32386412e+05, 4.32386412e+05, 7.10432943e+04,\n",
       "       7.43827050e+06, 1.16659205e+07, 1.24207427e+07, 7.10432943e+04,\n",
       "       5.88077667e+06, 1.16659205e+07, 1.24207427e+07, 1.30450640e+07,\n",
       "       8.20260625e+06, 1.24207427e+07, 4.48352425e+06, 6.80136367e+06,\n",
       "       7.10432943e+04, 7.10432943e+04, 5.55189375e+06, 3.56261075e+06,\n",
       "       1.24207427e+07, 1.24207427e+07, 1.24207427e+07, 2.41251778e+06,\n",
       "       1.24207427e+07, 1.24207427e+07, 1.01188800e+07, 1.16659205e+07,\n",
       "       7.43827050e+06, 7.10432943e+04, 4.32386412e+05, 6.59860633e+06,\n",
       "       6.03442375e+06, 6.18455700e+06, 4.23794708e+06, 5.49684050e+06,\n",
       "       5.11783650e+06, 3.07788075e+06, 8.17319228e+06, 7.16074317e+06,\n",
       "       1.70952162e+06, 3.56261075e+06, 6.39373800e+06, 6.59860633e+06,\n",
       "       4.89708925e+06, 5.55189375e+06, 3.56261075e+06, 2.54786706e+06,\n",
       "       7.64710467e+06, 7.45416109e+05, 6.18547775e+06, 9.41163750e+06,\n",
       "       4.90515650e+06, 2.33781152e+06, 1.64793822e+06, 3.27160025e+06,\n",
       "       3.76203908e+06, 3.24683977e+05, 3.55900325e+06, 5.11783650e+06,\n",
       "       6.96605425e+06, 1.01835520e+07, 1.01835520e+07, 2.41251778e+06,\n",
       "       3.80753767e+06, 4.32386412e+05, 5.55189375e+06, 4.29798675e+06,\n",
       "       5.08766075e+06, 9.48330382e+05, 4.25195888e+06, 2.36823842e+06,\n",
       "       7.11095879e+04, 4.55669283e+06, 4.28780175e+06, 1.30450640e+07,\n",
       "       4.42649675e+06, 3.07788075e+06, 3.76203908e+06, 7.11095879e+04,\n",
       "       4.90515650e+06, 4.23794708e+06, 1.24207427e+07, 1.24207427e+07,\n",
       "       1.01835520e+07, 6.96605425e+06, 1.24207427e+07, 1.24207427e+07,\n",
       "       1.24207427e+07, 5.96160233e+06, 5.49684050e+06, 3.39666788e+06,\n",
       "       2.92954950e+06, 3.14692600e+06, 1.01662550e+07, 1.01662550e+07,\n",
       "       9.29423844e+05, 3.39666788e+06, 9.32664550e+06, 4.76796450e+06])"
      ]
     },
     "execution_count": 27,
     "metadata": {},
     "output_type": "execute_result"
    }
   ],
   "source": [
    "# Prediction\n",
    "model.predict(Xt)"
   ]
  },
  {
   "cell_type": "code",
   "execution_count": 57,
   "id": "a1dc7ccf",
   "metadata": {},
   "outputs": [
    {
     "name": "stdout",
     "output_type": "stream",
     "text": [
      "MAPE : 12.006783510238181\n",
      "R2 : -1.350986215972751\n",
      "MSE : 34544224793325.707\n",
      "MAE : 4215118.526584008\n"
     ]
    }
   ],
   "source": [
    "# Evaluation # Xt:actual, yt:prediction\n",
    "print(f'MAPE :', mean_absolute_percentage_error(model.predict(Xt), yt))\n",
    "print(f'R2 :', r2_score(model.predict(Xt), yt))\n",
    "print(f'MSE :', mean_squared_error(model.predict(Xt), yt))\n",
    "print(f'MAE :', mean_absolute_error(model.predict(Xt), yt))"
   ]
  },
  {
   "cell_type": "markdown",
   "id": "69cd17d8",
   "metadata": {},
   "source": [
    "#### 5.2 : Decision Tree- v2"
   ]
  },
  {
   "cell_type": "code",
   "execution_count": 48,
   "id": "2b1ce8e9",
   "metadata": {},
   "outputs": [],
   "source": [
    "from sklearn.metrics import mean_absolute_percentage_error, r2_score, mean_squared_error, mean_absolute_error"
   ]
  },
  {
   "cell_type": "code",
   "execution_count": 66,
   "id": "51580dbd",
   "metadata": {},
   "outputs": [
    {
     "data": {
      "text/html": [
       "<style>#sk-container-id-8 {color: black;background-color: white;}#sk-container-id-8 pre{padding: 0;}#sk-container-id-8 div.sk-toggleable {background-color: white;}#sk-container-id-8 label.sk-toggleable__label {cursor: pointer;display: block;width: 100%;margin-bottom: 0;padding: 0.3em;box-sizing: border-box;text-align: center;}#sk-container-id-8 label.sk-toggleable__label-arrow:before {content: \"▸\";float: left;margin-right: 0.25em;color: #696969;}#sk-container-id-8 label.sk-toggleable__label-arrow:hover:before {color: black;}#sk-container-id-8 div.sk-estimator:hover label.sk-toggleable__label-arrow:before {color: black;}#sk-container-id-8 div.sk-toggleable__content {max-height: 0;max-width: 0;overflow: hidden;text-align: left;background-color: #f0f8ff;}#sk-container-id-8 div.sk-toggleable__content pre {margin: 0.2em;color: black;border-radius: 0.25em;background-color: #f0f8ff;}#sk-container-id-8 input.sk-toggleable__control:checked~div.sk-toggleable__content {max-height: 200px;max-width: 100%;overflow: auto;}#sk-container-id-8 input.sk-toggleable__control:checked~label.sk-toggleable__label-arrow:before {content: \"▾\";}#sk-container-id-8 div.sk-estimator input.sk-toggleable__control:checked~label.sk-toggleable__label {background-color: #d4ebff;}#sk-container-id-8 div.sk-label input.sk-toggleable__control:checked~label.sk-toggleable__label {background-color: #d4ebff;}#sk-container-id-8 input.sk-hidden--visually {border: 0;clip: rect(1px 1px 1px 1px);clip: rect(1px, 1px, 1px, 1px);height: 1px;margin: -1px;overflow: hidden;padding: 0;position: absolute;width: 1px;}#sk-container-id-8 div.sk-estimator {font-family: monospace;background-color: #f0f8ff;border: 1px dotted black;border-radius: 0.25em;box-sizing: border-box;margin-bottom: 0.5em;}#sk-container-id-8 div.sk-estimator:hover {background-color: #d4ebff;}#sk-container-id-8 div.sk-parallel-item::after {content: \"\";width: 100%;border-bottom: 1px solid gray;flex-grow: 1;}#sk-container-id-8 div.sk-label:hover label.sk-toggleable__label {background-color: #d4ebff;}#sk-container-id-8 div.sk-serial::before {content: \"\";position: absolute;border-left: 1px solid gray;box-sizing: border-box;top: 0;bottom: 0;left: 50%;z-index: 0;}#sk-container-id-8 div.sk-serial {display: flex;flex-direction: column;align-items: center;background-color: white;padding-right: 0.2em;padding-left: 0.2em;position: relative;}#sk-container-id-8 div.sk-item {position: relative;z-index: 1;}#sk-container-id-8 div.sk-parallel {display: flex;align-items: stretch;justify-content: center;background-color: white;position: relative;}#sk-container-id-8 div.sk-item::before, #sk-container-id-8 div.sk-parallel-item::before {content: \"\";position: absolute;border-left: 1px solid gray;box-sizing: border-box;top: 0;bottom: 0;left: 50%;z-index: -1;}#sk-container-id-8 div.sk-parallel-item {display: flex;flex-direction: column;z-index: 1;position: relative;background-color: white;}#sk-container-id-8 div.sk-parallel-item:first-child::after {align-self: flex-end;width: 50%;}#sk-container-id-8 div.sk-parallel-item:last-child::after {align-self: flex-start;width: 50%;}#sk-container-id-8 div.sk-parallel-item:only-child::after {width: 0;}#sk-container-id-8 div.sk-dashed-wrapped {border: 1px dashed gray;margin: 0 0.4em 0.5em 0.4em;box-sizing: border-box;padding-bottom: 0.4em;background-color: white;}#sk-container-id-8 div.sk-label label {font-family: monospace;font-weight: bold;display: inline-block;line-height: 1.2em;}#sk-container-id-8 div.sk-label-container {text-align: center;}#sk-container-id-8 div.sk-container {/* jupyter's `normalize.less` sets `[hidden] { display: none; }` but bootstrap.min.css set `[hidden] { display: none !important; }` so we also need the `!important` here to be able to override the default hidden behavior on the sphinx rendered scikit-learn.org. See: https://github.com/scikit-learn/scikit-learn/issues/21755 */display: inline-block !important;position: relative;}#sk-container-id-8 div.sk-text-repr-fallback {display: none;}</style><div id=\"sk-container-id-8\" class=\"sk-top-container\"><div class=\"sk-text-repr-fallback\"><pre>DecisionTreeRegressor(criterion=&#x27;poisson&#x27;, max_depth=5, max_features=&#x27;auto&#x27;,\n",
       "                      max_leaf_nodes=3, min_samples_leaf=2, min_samples_split=3,\n",
       "                      random_state=41, splitter=&#x27;random&#x27;)</pre><b>In a Jupyter environment, please rerun this cell to show the HTML representation or trust the notebook. <br />On GitHub, the HTML representation is unable to render, please try loading this page with nbviewer.org.</b></div><div class=\"sk-container\" hidden><div class=\"sk-item\"><div class=\"sk-estimator sk-toggleable\"><input class=\"sk-toggleable__control sk-hidden--visually\" id=\"sk-estimator-id-8\" type=\"checkbox\" checked><label for=\"sk-estimator-id-8\" class=\"sk-toggleable__label sk-toggleable__label-arrow\">DecisionTreeRegressor</label><div class=\"sk-toggleable__content\"><pre>DecisionTreeRegressor(criterion=&#x27;poisson&#x27;, max_depth=5, max_features=&#x27;auto&#x27;,\n",
       "                      max_leaf_nodes=3, min_samples_leaf=2, min_samples_split=3,\n",
       "                      random_state=41, splitter=&#x27;random&#x27;)</pre></div></div></div></div></div>"
      ],
      "text/plain": [
       "DecisionTreeRegressor(criterion='poisson', max_depth=5, max_features='auto',\n",
       "                      max_leaf_nodes=3, min_samples_leaf=2, min_samples_split=3,\n",
       "                      random_state=41, splitter='random')"
      ]
     },
     "execution_count": 66,
     "metadata": {},
     "output_type": "execute_result"
    }
   ],
   "source": [
    "# import\n",
    "from sklearn.tree import DecisionTreeRegressor\n",
    "\n",
    "# modeling\n",
    "model_3 = DecisionTreeRegressor(\n",
    "    criterion='poisson',\n",
    "    splitter='random',\n",
    "    max_depth=5,\n",
    "    min_samples_split=3,\n",
    "    min_samples_leaf=2,\n",
    "    min_weight_fraction_leaf=0.0,\n",
    "    max_features='auto',\n",
    "    random_state=41,\n",
    "    max_leaf_nodes=3,\n",
    "    min_impurity_decrease=0.0,\n",
    "    ccp_alpha=0.0,\n",
    ")\n",
    "\n",
    "# fit the model\n",
    "model_3.fit(X, y)\n"
   ]
  },
  {
   "cell_type": "code",
   "execution_count": 71,
   "id": "8560586a",
   "metadata": {},
   "outputs": [
    {
     "name": "stdout",
     "output_type": "stream",
     "text": [
      "MAPE : 0.7751645481899124\n",
      "R2 : -11.151638054690437\n",
      "MSE : 25624262415428.688\n",
      "MAE : 3441879.2101823553\n"
     ]
    }
   ],
   "source": [
    "# Evaluation # Xt:actual, yt:prediction\n",
    "print(f'MAPE :', mean_absolute_percentage_error(model_3.predict(Xt), yt))\n",
    "print(f'R2 :', r2_score(model_3.predict(Xt), yt))\n",
    "print(f'MSE :', mean_squared_error(model_3.predict(Xt), yt))\n",
    "print(f'MAE :', mean_absolute_error(model_3.predict(Xt), yt))\n"
   ]
  },
  {
   "cell_type": "markdown",
   "id": "faea9c7a",
   "metadata": {},
   "source": [
    "### 6.0 Random Forest"
   ]
  },
  {
   "cell_type": "markdown",
   "id": "c103f21e",
   "metadata": {},
   "source": [
    "#### 6.1 Random Forest-Basic"
   ]
  },
  {
   "cell_type": "code",
   "execution_count": 77,
   "id": "161b2d5e",
   "metadata": {},
   "outputs": [
    {
     "data": {
      "text/html": [
       "<style>#sk-container-id-12 {color: black;background-color: white;}#sk-container-id-12 pre{padding: 0;}#sk-container-id-12 div.sk-toggleable {background-color: white;}#sk-container-id-12 label.sk-toggleable__label {cursor: pointer;display: block;width: 100%;margin-bottom: 0;padding: 0.3em;box-sizing: border-box;text-align: center;}#sk-container-id-12 label.sk-toggleable__label-arrow:before {content: \"▸\";float: left;margin-right: 0.25em;color: #696969;}#sk-container-id-12 label.sk-toggleable__label-arrow:hover:before {color: black;}#sk-container-id-12 div.sk-estimator:hover label.sk-toggleable__label-arrow:before {color: black;}#sk-container-id-12 div.sk-toggleable__content {max-height: 0;max-width: 0;overflow: hidden;text-align: left;background-color: #f0f8ff;}#sk-container-id-12 div.sk-toggleable__content pre {margin: 0.2em;color: black;border-radius: 0.25em;background-color: #f0f8ff;}#sk-container-id-12 input.sk-toggleable__control:checked~div.sk-toggleable__content {max-height: 200px;max-width: 100%;overflow: auto;}#sk-container-id-12 input.sk-toggleable__control:checked~label.sk-toggleable__label-arrow:before {content: \"▾\";}#sk-container-id-12 div.sk-estimator input.sk-toggleable__control:checked~label.sk-toggleable__label {background-color: #d4ebff;}#sk-container-id-12 div.sk-label input.sk-toggleable__control:checked~label.sk-toggleable__label {background-color: #d4ebff;}#sk-container-id-12 input.sk-hidden--visually {border: 0;clip: rect(1px 1px 1px 1px);clip: rect(1px, 1px, 1px, 1px);height: 1px;margin: -1px;overflow: hidden;padding: 0;position: absolute;width: 1px;}#sk-container-id-12 div.sk-estimator {font-family: monospace;background-color: #f0f8ff;border: 1px dotted black;border-radius: 0.25em;box-sizing: border-box;margin-bottom: 0.5em;}#sk-container-id-12 div.sk-estimator:hover {background-color: #d4ebff;}#sk-container-id-12 div.sk-parallel-item::after {content: \"\";width: 100%;border-bottom: 1px solid gray;flex-grow: 1;}#sk-container-id-12 div.sk-label:hover label.sk-toggleable__label {background-color: #d4ebff;}#sk-container-id-12 div.sk-serial::before {content: \"\";position: absolute;border-left: 1px solid gray;box-sizing: border-box;top: 0;bottom: 0;left: 50%;z-index: 0;}#sk-container-id-12 div.sk-serial {display: flex;flex-direction: column;align-items: center;background-color: white;padding-right: 0.2em;padding-left: 0.2em;position: relative;}#sk-container-id-12 div.sk-item {position: relative;z-index: 1;}#sk-container-id-12 div.sk-parallel {display: flex;align-items: stretch;justify-content: center;background-color: white;position: relative;}#sk-container-id-12 div.sk-item::before, #sk-container-id-12 div.sk-parallel-item::before {content: \"\";position: absolute;border-left: 1px solid gray;box-sizing: border-box;top: 0;bottom: 0;left: 50%;z-index: -1;}#sk-container-id-12 div.sk-parallel-item {display: flex;flex-direction: column;z-index: 1;position: relative;background-color: white;}#sk-container-id-12 div.sk-parallel-item:first-child::after {align-self: flex-end;width: 50%;}#sk-container-id-12 div.sk-parallel-item:last-child::after {align-self: flex-start;width: 50%;}#sk-container-id-12 div.sk-parallel-item:only-child::after {width: 0;}#sk-container-id-12 div.sk-dashed-wrapped {border: 1px dashed gray;margin: 0 0.4em 0.5em 0.4em;box-sizing: border-box;padding-bottom: 0.4em;background-color: white;}#sk-container-id-12 div.sk-label label {font-family: monospace;font-weight: bold;display: inline-block;line-height: 1.2em;}#sk-container-id-12 div.sk-label-container {text-align: center;}#sk-container-id-12 div.sk-container {/* jupyter's `normalize.less` sets `[hidden] { display: none; }` but bootstrap.min.css set `[hidden] { display: none !important; }` so we also need the `!important` here to be able to override the default hidden behavior on the sphinx rendered scikit-learn.org. See: https://github.com/scikit-learn/scikit-learn/issues/21755 */display: inline-block !important;position: relative;}#sk-container-id-12 div.sk-text-repr-fallback {display: none;}</style><div id=\"sk-container-id-12\" class=\"sk-top-container\"><div class=\"sk-text-repr-fallback\"><pre>RandomForestRegressor(max_depth=5, random_state=33)</pre><b>In a Jupyter environment, please rerun this cell to show the HTML representation or trust the notebook. <br />On GitHub, the HTML representation is unable to render, please try loading this page with nbviewer.org.</b></div><div class=\"sk-container\" hidden><div class=\"sk-item\"><div class=\"sk-estimator sk-toggleable\"><input class=\"sk-toggleable__control sk-hidden--visually\" id=\"sk-estimator-id-12\" type=\"checkbox\" checked><label for=\"sk-estimator-id-12\" class=\"sk-toggleable__label sk-toggleable__label-arrow\">RandomForestRegressor</label><div class=\"sk-toggleable__content\"><pre>RandomForestRegressor(max_depth=5, random_state=33)</pre></div></div></div></div></div>"
      ],
      "text/plain": [
       "RandomForestRegressor(max_depth=5, random_state=33)"
      ]
     },
     "execution_count": 77,
     "metadata": {},
     "output_type": "execute_result"
    }
   ],
   "source": [
    "from sklearn.ensemble import RandomForestRegressor\n",
    "\n",
    "# modeling\n",
    "model_4 = RandomForestRegressor(\n",
    "    criterion='squared_error',\n",
    "    max_depth=5, \n",
    "    min_samples_split=2,\n",
    "    min_samples_leaf=1,\n",
    "    min_weight_fraction_leaf=0.0,\n",
    "    max_features=1.0,\n",
    "    max_leaf_nodes=None,\n",
    "    min_impurity_decrease=0.0,\n",
    "    bootstrap=True,\n",
    "    oob_score=False,\n",
    "    n_jobs=None,\n",
    "    random_state=33,\n",
    "    verbose=0,\n",
    "    warm_start=False,\n",
    "    ccp_alpha=0.0,\n",
    "    max_samples=None,\n",
    ")\n",
    "\n",
    "# train the model\n",
    "model_4.fit(X, y)"
   ]
  },
  {
   "cell_type": "code",
   "execution_count": 78,
   "id": "1359e4ce",
   "metadata": {},
   "outputs": [
    {
     "name": "stdout",
     "output_type": "stream",
     "text": [
      "MAPE : 0.6616110862986831\n",
      "R2 : -4.439369404314615\n",
      "MSE : 23657300931616.277\n",
      "MAE : 3338817.996242817\n"
     ]
    }
   ],
   "source": [
    "# Prediction & Evaluation\n",
    "print(f'MAPE :', mean_absolute_percentage_error(model_4.predict(Xt), yt))\n",
    "print(f'R2 :', r2_score(model_4.predict(Xt), yt))\n",
    "print(f'MSE :', mean_squared_error(model_4.predict(Xt),yt))\n",
    "print(f'MAE :', mean_absolute_error(model_4.predict(Xt), yt))"
   ]
  },
  {
   "cell_type": "markdown",
   "id": "5bda82a3",
   "metadata": {},
   "source": [
    "### 7.0 XGBoost"
   ]
  },
  {
   "cell_type": "markdown",
   "id": "a9f2ff44",
   "metadata": {},
   "source": [
    "#### 7.1  XGBoost"
   ]
  },
  {
   "cell_type": "code",
   "execution_count": 83,
   "id": "f07760f1",
   "metadata": {},
   "outputs": [],
   "source": [
    "# !pip3 install xgboost"
   ]
  },
  {
   "cell_type": "code",
   "execution_count": 86,
   "id": "307c21b5",
   "metadata": {},
   "outputs": [
    {
     "data": {
      "text/html": [
       "<style>#sk-container-id-14 {color: black;background-color: white;}#sk-container-id-14 pre{padding: 0;}#sk-container-id-14 div.sk-toggleable {background-color: white;}#sk-container-id-14 label.sk-toggleable__label {cursor: pointer;display: block;width: 100%;margin-bottom: 0;padding: 0.3em;box-sizing: border-box;text-align: center;}#sk-container-id-14 label.sk-toggleable__label-arrow:before {content: \"▸\";float: left;margin-right: 0.25em;color: #696969;}#sk-container-id-14 label.sk-toggleable__label-arrow:hover:before {color: black;}#sk-container-id-14 div.sk-estimator:hover label.sk-toggleable__label-arrow:before {color: black;}#sk-container-id-14 div.sk-toggleable__content {max-height: 0;max-width: 0;overflow: hidden;text-align: left;background-color: #f0f8ff;}#sk-container-id-14 div.sk-toggleable__content pre {margin: 0.2em;color: black;border-radius: 0.25em;background-color: #f0f8ff;}#sk-container-id-14 input.sk-toggleable__control:checked~div.sk-toggleable__content {max-height: 200px;max-width: 100%;overflow: auto;}#sk-container-id-14 input.sk-toggleable__control:checked~label.sk-toggleable__label-arrow:before {content: \"▾\";}#sk-container-id-14 div.sk-estimator input.sk-toggleable__control:checked~label.sk-toggleable__label {background-color: #d4ebff;}#sk-container-id-14 div.sk-label input.sk-toggleable__control:checked~label.sk-toggleable__label {background-color: #d4ebff;}#sk-container-id-14 input.sk-hidden--visually {border: 0;clip: rect(1px 1px 1px 1px);clip: rect(1px, 1px, 1px, 1px);height: 1px;margin: -1px;overflow: hidden;padding: 0;position: absolute;width: 1px;}#sk-container-id-14 div.sk-estimator {font-family: monospace;background-color: #f0f8ff;border: 1px dotted black;border-radius: 0.25em;box-sizing: border-box;margin-bottom: 0.5em;}#sk-container-id-14 div.sk-estimator:hover {background-color: #d4ebff;}#sk-container-id-14 div.sk-parallel-item::after {content: \"\";width: 100%;border-bottom: 1px solid gray;flex-grow: 1;}#sk-container-id-14 div.sk-label:hover label.sk-toggleable__label {background-color: #d4ebff;}#sk-container-id-14 div.sk-serial::before {content: \"\";position: absolute;border-left: 1px solid gray;box-sizing: border-box;top: 0;bottom: 0;left: 50%;z-index: 0;}#sk-container-id-14 div.sk-serial {display: flex;flex-direction: column;align-items: center;background-color: white;padding-right: 0.2em;padding-left: 0.2em;position: relative;}#sk-container-id-14 div.sk-item {position: relative;z-index: 1;}#sk-container-id-14 div.sk-parallel {display: flex;align-items: stretch;justify-content: center;background-color: white;position: relative;}#sk-container-id-14 div.sk-item::before, #sk-container-id-14 div.sk-parallel-item::before {content: \"\";position: absolute;border-left: 1px solid gray;box-sizing: border-box;top: 0;bottom: 0;left: 50%;z-index: -1;}#sk-container-id-14 div.sk-parallel-item {display: flex;flex-direction: column;z-index: 1;position: relative;background-color: white;}#sk-container-id-14 div.sk-parallel-item:first-child::after {align-self: flex-end;width: 50%;}#sk-container-id-14 div.sk-parallel-item:last-child::after {align-self: flex-start;width: 50%;}#sk-container-id-14 div.sk-parallel-item:only-child::after {width: 0;}#sk-container-id-14 div.sk-dashed-wrapped {border: 1px dashed gray;margin: 0 0.4em 0.5em 0.4em;box-sizing: border-box;padding-bottom: 0.4em;background-color: white;}#sk-container-id-14 div.sk-label label {font-family: monospace;font-weight: bold;display: inline-block;line-height: 1.2em;}#sk-container-id-14 div.sk-label-container {text-align: center;}#sk-container-id-14 div.sk-container {/* jupyter's `normalize.less` sets `[hidden] { display: none; }` but bootstrap.min.css set `[hidden] { display: none !important; }` so we also need the `!important` here to be able to override the default hidden behavior on the sphinx rendered scikit-learn.org. See: https://github.com/scikit-learn/scikit-learn/issues/21755 */display: inline-block !important;position: relative;}#sk-container-id-14 div.sk-text-repr-fallback {display: none;}</style><div id=\"sk-container-id-14\" class=\"sk-top-container\"><div class=\"sk-text-repr-fallback\"><pre>XGBRegressor(base_score=None, booster=None, callbacks=None,\n",
       "             colsample_bylevel=None, colsample_bynode=None,\n",
       "             colsample_bytree=None, device=None, early_stopping_rounds=None,\n",
       "             enable_categorical=False, eval_metric=None, feature_types=None,\n",
       "             gamma=None, grow_policy=None, importance_type=None,\n",
       "             interaction_constraints=None, learning_rate=None, max_bin=None,\n",
       "             max_cat_threshold=None, max_cat_to_onehot=None,\n",
       "             max_delta_step=None, max_depth=None, max_leaves=None,\n",
       "             min_child_weight=None, missing=nan, monotone_constraints=None,\n",
       "             multi_strategy=None, n_estimators=10, n_jobs=None,\n",
       "             num_parallel_tree=None, objective=&#x27;reg:linear&#x27;, ...)</pre><b>In a Jupyter environment, please rerun this cell to show the HTML representation or trust the notebook. <br />On GitHub, the HTML representation is unable to render, please try loading this page with nbviewer.org.</b></div><div class=\"sk-container\" hidden><div class=\"sk-item\"><div class=\"sk-estimator sk-toggleable\"><input class=\"sk-toggleable__control sk-hidden--visually\" id=\"sk-estimator-id-14\" type=\"checkbox\" checked><label for=\"sk-estimator-id-14\" class=\"sk-toggleable__label sk-toggleable__label-arrow\">XGBRegressor</label><div class=\"sk-toggleable__content\"><pre>XGBRegressor(base_score=None, booster=None, callbacks=None,\n",
       "             colsample_bylevel=None, colsample_bynode=None,\n",
       "             colsample_bytree=None, device=None, early_stopping_rounds=None,\n",
       "             enable_categorical=False, eval_metric=None, feature_types=None,\n",
       "             gamma=None, grow_policy=None, importance_type=None,\n",
       "             interaction_constraints=None, learning_rate=None, max_bin=None,\n",
       "             max_cat_threshold=None, max_cat_to_onehot=None,\n",
       "             max_delta_step=None, max_depth=None, max_leaves=None,\n",
       "             min_child_weight=None, missing=nan, monotone_constraints=None,\n",
       "             multi_strategy=None, n_estimators=10, n_jobs=None,\n",
       "             num_parallel_tree=None, objective=&#x27;reg:linear&#x27;, ...)</pre></div></div></div></div></div>"
      ],
      "text/plain": [
       "XGBRegressor(base_score=None, booster=None, callbacks=None,\n",
       "             colsample_bylevel=None, colsample_bynode=None,\n",
       "             colsample_bytree=None, device=None, early_stopping_rounds=None,\n",
       "             enable_categorical=False, eval_metric=None, feature_types=None,\n",
       "             gamma=None, grow_policy=None, importance_type=None,\n",
       "             interaction_constraints=None, learning_rate=None, max_bin=None,\n",
       "             max_cat_threshold=None, max_cat_to_onehot=None,\n",
       "             max_delta_step=None, max_depth=None, max_leaves=None,\n",
       "             min_child_weight=None, missing=nan, monotone_constraints=None,\n",
       "             multi_strategy=None, n_estimators=10, n_jobs=None,\n",
       "             num_parallel_tree=None, objective='reg:linear', ...)"
      ]
     },
     "execution_count": 86,
     "metadata": {},
     "output_type": "execute_result"
    }
   ],
   "source": [
    "import xgboost as xgb\n",
    "from sklearn.metrics import mean_squared_error as MSE \n",
    "\n",
    "# Instantiation \n",
    "xgb_r = xgb.XGBRegressor(objective ='reg:linear', \n",
    "                  n_estimators = 10, seed = 123) \n",
    "\n",
    "# Fitting the model \n",
    "xgb_r.fit(X,y)"
   ]
  },
  {
   "cell_type": "code",
   "execution_count": 89,
   "id": "7f984cb6",
   "metadata": {},
   "outputs": [],
   "source": [
    "# Predict the model \n",
    "# xgb_r.predict(Xt) "
   ]
  },
  {
   "cell_type": "code",
   "execution_count": null,
   "id": "967a40da",
   "metadata": {},
   "outputs": [],
   "source": []
  },
  {
   "cell_type": "code",
   "execution_count": 87,
   "id": "a93a3a82",
   "metadata": {},
   "outputs": [
    {
     "name": "stdout",
     "output_type": "stream",
     "text": [
      "MAPE : 0.67495173\n",
      "R2 : -4.119310378022047\n",
      "MSE : 23520476000000.0\n",
      "MAE : 3345206.8\n"
     ]
    }
   ],
   "source": [
    "print(f'MAPE :', mean_absolute_percentage_error(xgb_r.predict(Xt), yt))\n",
    "print(f'R2 :', r2_score(xgb_r.predict(Xt), yt))\n",
    "print(f'MSE :', mean_squared_error(xgb_r.predict(Xt),yt))\n",
    "print(f'MAE :', mean_absolute_error(xgb_r.predict(Xt), yt))"
   ]
  },
  {
   "cell_type": "markdown",
   "id": "0a7e453c",
   "metadata": {},
   "source": [
    "####  RMSE Computation "
   ]
  },
  {
   "cell_type": "code",
   "execution_count": 90,
   "id": "67d788d0",
   "metadata": {},
   "outputs": [],
   "source": [
    "pred = xgb_r.predict(Xt)"
   ]
  },
  {
   "cell_type": "code",
   "execution_count": 91,
   "id": "aa5bd6e1",
   "metadata": {},
   "outputs": [
    {
     "name": "stdout",
     "output_type": "stream",
     "text": [
      "RMSE :  4849791.500000\n"
     ]
    }
   ],
   "source": [
    "rmse = np.sqrt(MSE(yt, pred)) \n",
    "print(\"RMSE : % f\" %(rmse)) "
   ]
  },
  {
   "cell_type": "markdown",
   "id": "3be463e3",
   "metadata": {},
   "source": [
    "### Task (Takeaway)"
   ]
  },
  {
   "cell_type": "markdown",
   "id": "3d991405",
   "metadata": {},
   "source": [
    "1. Task1: Import libraries\n",
    "2. Task2: load best selected features, not data\n",
    "3. Task3: Experiments\n",
    "4. Task4: Modeling i.g KNeighbors"
   ]
  },
  {
   "cell_type": "markdown",
   "id": "0a1fb53d",
   "metadata": {},
   "source": [
    "### Splitting"
   ]
  },
  {
   "cell_type": "code",
   "execution_count": 24,
   "id": "9198a604",
   "metadata": {},
   "outputs": [],
   "source": [
    "# ts = TimeSeriesSplit(n_splits=2, max_train_size=800, test_size=25, gap=0) # since max data is 1100+ so, max_train_size 800, gap = no gap in spliting in date range\n",
    "# folds = list(ts.split(df))                                                              # the generator has 2 folds that we can asscess, if you c"
   ]
  },
  {
   "cell_type": "code",
   "execution_count": null,
   "id": "8fdab375",
   "metadata": {},
   "outputs": [],
   "source": [
    "# Accessing \n",
    "# list(ts.split(df)) [0] # train index"
   ]
  },
  {
   "cell_type": "code",
   "execution_count": null,
   "id": "201241b7",
   "metadata": {},
   "outputs": [],
   "source": [
    "# list(ts.split(df)) [1] # test index"
   ]
  },
  {
   "cell_type": "code",
   "execution_count": null,
   "id": "51961d9b",
   "metadata": {},
   "outputs": [],
   "source": [
    "# storing folds\n",
    "train = df.loc[folds[1][0]] # training 2 fold, 1st index for train\n",
    "test = df.loc[folds[1][1]]  # testing 2 fold, 2nd index for test"
   ]
  },
  {
   "cell_type": "code",
   "execution_count": null,
   "id": "bc266e76",
   "metadata": {},
   "outputs": [],
   "source": [
    "train.shape "
   ]
  },
  {
   "cell_type": "code",
   "execution_count": null,
   "id": "4831122f",
   "metadata": {},
   "outputs": [],
   "source": [
    "test.shape"
   ]
  },
  {
   "cell_type": "code",
   "execution_count": null,
   "id": "67f4b882",
   "metadata": {},
   "outputs": [],
   "source": []
  },
  {
   "cell_type": "code",
   "execution_count": null,
   "id": "3bfdadaa",
   "metadata": {},
   "outputs": [],
   "source": []
  },
  {
   "cell_type": "markdown",
   "id": "39a09e8c",
   "metadata": {},
   "source": [
    "## 3.0 Experiments- Testing"
   ]
  },
  {
   "cell_type": "markdown",
   "id": "181b673f",
   "metadata": {},
   "source": [
    "#### code Narraation - Splitter"
   ]
  },
  {
   "cell_type": "markdown",
   "id": "0b8dcafb",
   "metadata": {},
   "source": [
    "1. import package i.g TimeSeriesSplit(n_splits=2, max_train_size=800, test_size=25, gap=0) \n",
    "2. ts.split(df) > it will return a generator from that we can access, but for access need to convert into list first\n",
    "3. list(ts.split(df)) > converted to get get & access the folds/ data. Check the index\n",
    "4. store this index somewhere i.g folds  example folds = list(ts.split(df))\n",
    "5. access folds\n",
    "- train = df.loc[folds[1]]  >> two folds 0, 1 >> we are targeting 2nd or the folds with max data i.g 1 and then take only few not all, that is training i.g 0 as below:\n",
    "- train = df.loc[folds[1][0]]"
   ]
  },
  {
   "cell_type": "markdown",
   "id": "3c4f1ac6",
   "metadata": {},
   "source": [
    "<center> <h3> End of model (model1) Testing </h3></center>"
   ]
  },
  {
   "cell_type": "code",
   "execution_count": null,
   "id": "65bc1a4a",
   "metadata": {},
   "outputs": [],
   "source": []
  },
  {
   "cell_type": "markdown",
   "id": "eacf5829",
   "metadata": {},
   "source": [
    "#### Attempts"
   ]
  },
  {
   "cell_type": "markdown",
   "id": "38823eed",
   "metadata": {},
   "source": [
    "1. KNeighborsTimeSeriesRegressor  -- Failed >>  hten approach to Darts model with XGBoost Model ("
   ]
  },
  {
   "cell_type": "code",
   "execution_count": null,
   "id": "43af1932",
   "metadata": {},
   "outputs": [],
   "source": []
  },
  {
   "cell_type": "code",
   "execution_count": null,
   "id": "56d4ffa0",
   "metadata": {},
   "outputs": [],
   "source": []
  },
  {
   "cell_type": "markdown",
   "id": "ae97c527",
   "metadata": {},
   "source": [
    "##### Genearal Notes"
   ]
  },
  {
   "cell_type": "markdown",
   "id": "77623a37",
   "metadata": {},
   "source": [
    "1. We will take best features and do modeling on that to see which one is performing well\n",
    "2. No need to take data in this part\n",
    "3. We need the terminal > jupyer > new > terminal"
   ]
  },
  {
   "cell_type": "markdown",
   "id": "409c2f78",
   "metadata": {},
   "source": [
    "#### Darts Model"
   ]
  },
  {
   "cell_type": "markdown",
   "id": "1a3d85d6",
   "metadata": {},
   "source": [
    "1. Not by default need to install\n",
    "2. Darts expect params to pass, it generate differnet time series (requirment e.g lags, window etc) automatically, but we already convert time series data to tabular form\n",
    "3. So, need to go with normal machine learing approach l.g sklearn\n",
    "4. We haave already calculated lags, window, expanding window, so the task of dart we already completed!\n"
   ]
  },
  {
   "cell_type": "code",
   "execution_count": null,
   "id": "da49c2bd",
   "metadata": {},
   "outputs": [],
   "source": [
    "# Modeling Steps\n",
    "'''\n",
    "1. Import necessary library\n",
    "2. Train & Test dataset (train test or load train / test data)\n",
    "3. mode architecture\n",
    "4. result interpretion/analysis\n",
    "\n",
    "'''"
   ]
  },
  {
   "cell_type": "markdown",
   "id": "c9dd0cac",
   "metadata": {},
   "source": [
    "#### Ref"
   ]
  },
  {
   "cell_type": "markdown",
   "id": "03cc4282",
   "metadata": {},
   "source": [
    "1. https://tslearn.readthedocs.io/en/latest/gen_modules/neighbors/tslearn.neighbors.KNeighborsTimeSeriesRegressor.h"
   ]
  },
  {
   "cell_type": "code",
   "execution_count": null,
   "id": "9fb1e27a",
   "metadata": {},
   "outputs": [],
   "source": []
  }
 ],
 "metadata": {
  "kernelspec": {
   "display_name": "Python 3 (ipykernel)",
   "language": "python",
   "name": "python3"
  },
  "language_info": {
   "codemirror_mode": {
    "name": "ipython",
    "version": 3
   },
   "file_extension": ".py",
   "mimetype": "text/x-python",
   "name": "python",
   "nbconvert_exporter": "python",
   "pygments_lexer": "ipython3",
   "version": "3.10.7"
  }
 },
 "nbformat": 4,
 "nbformat_minor": 5
}
